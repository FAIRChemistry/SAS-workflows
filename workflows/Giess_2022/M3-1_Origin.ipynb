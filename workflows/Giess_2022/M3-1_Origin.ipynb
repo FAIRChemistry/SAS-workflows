{
 "cells": [
  {
   "cell_type": "markdown",
   "id": "d482f382-9096-427e-ac26-6d12b651a6e8",
   "metadata": {},
   "source": [
    "# FAIR and scalable management of small-angle X-ray scattering data  \n",
    "## Module 3: Data analysis and visualization\n",
    "### 3.1: Lorentzian fit with Origin\n",
    "\n",
    "> Authors: Torsten Giess, Selina Itzigehl, Jan Range, Johanna R. Bruckner, Juergen Pleiss  \n",
    "> Last modified: 10.05.2022\n",
    "\n",
    "---"
   ]
  },
  {
   "cell_type": "markdown",
   "id": "82c25029-b2d9-42cf-b9fa-cb9b161eed89",
   "metadata": {},
   "source": [
    "### **Abstract** <a class=\"anchor\" name=\"abstract\"></a>\n",
    "\n",
    "Using packages from the Python 3 standard libary, this notebook provides the means to \"translate\" the data stored in the AnIML file to TSV, enabling further analyses in external programs, i.e. Origin.\n",
    "\n",
    "---"
   ]
  },
  {
   "cell_type": "markdown",
   "id": "08bca00d-8a2b-4903-a156-274f5680737e",
   "metadata": {},
   "source": [
    "### **Table of Contents** <a class=\"anchor\" name=\"table_of_contents\"></a>\n",
    "\n",
    "- [Abstract](#abstract)\n",
    "- [Workflow](#workflow)\n",
    "    - [User guide](#user_guide)\n",
    "    - [Preparation](#preparation)\n",
    "    - [Lorentzian fit with Origin](#origin)\n",
    "- [Disclosure](#disclosure)\n",
    "\n",
    "---"
   ]
  },
  {
   "cell_type": "markdown",
   "id": "d3a14dc3-3457-4d4c-9827-bde70a38926e",
   "metadata": {},
   "source": [
    "### **Workflow** <a class=\"anchor\" name=\"workflow\"></a>\n",
    "\n",
    "Following is the workflow for Module 3.1: Lorentzian fit with Origin of FAIR and scalable management of small-angle X-ray scattering data."
   ]
  },
  {
   "cell_type": "markdown",
   "id": "4ac5ea60-fb8b-4d11-9d42-981e4d7c1e9e",
   "metadata": {},
   "source": [
    "#### **User guide** <a class=\"anchor\" name=\"user_guide\"></a>\n",
    "\n",
    "This notebook can be used to create TSV files from data(sets) stored in the AnIML file and export them to external software for further analyses inlcuding Lorentzian fits of diffraction maxima."
   ]
  },
  {
   "cell_type": "markdown",
   "id": "778d2b3b-b837-47dc-bd46-1e718ae867ed",
   "metadata": {},
   "source": [
    "#### **Preparation** <a class=\"anchor\" name=\"preparation\"></a>\n",
    "\n",
    "This section contains the necessary preparations for using this module. Code cells in this section are required regardless of which functionality of this notebook is used. First, the required packages from the [Python 3 standard library](https://docs.python.org/3/library/), the Python Package Index ([PyPI](https://pypi.org/)), and *ad hoc* modules of this work are imported. Then, both current time and path are retrieved and stored in the desired formats."
   ]
  },
  {
   "cell_type": "code",
   "execution_count": null,
   "id": "3030bb86-729f-4729-8ff7-e412b0f6e849",
   "metadata": {},
   "outputs": [],
   "source": [
    "print(\"Importing standard library packages.\")\n",
    "from datetime import date\n",
    "from pathlib import Path\n",
    "print (\"Done.\")"
   ]
  },
  {
   "cell_type": "code",
   "execution_count": null,
   "id": "40310912-809a-4a64-8440-19e1dcad5eeb",
   "metadata": {},
   "outputs": [],
   "source": [
    "print(\"Importing PyPI packages.\")\n",
    "from pyaniml import AnIMLDocument\n",
    "print (\"Done.\")"
   ]
  },
  {
   "cell_type": "code",
   "execution_count": null,
   "id": "caa4fd32-16a6-4312-85ee-c8f97b522e51",
   "metadata": {},
   "outputs": [],
   "source": [
    "print(\"Importing local packages.\")\n",
    "from modules.seriesreader import SeriesReader\n",
    "print(\"All done.\")"
   ]
  },
  {
   "cell_type": "code",
   "execution_count": null,
   "id": "b6867753-1a79-4f4b-8c3f-b053ce4ab7b3",
   "metadata": {},
   "outputs": [],
   "source": [
    "date_suffix = str(date.today()).replace(\"-\", \"\")[2:]"
   ]
  },
  {
   "cell_type": "code",
   "execution_count": null,
   "id": "18d69ade-5b4c-45e2-9e6b-9247f4d61b7d",
   "metadata": {},
   "outputs": [],
   "source": [
    "cwd = Path.cwd()\n",
    "path_to_datasets = cwd / \"./datasets/\""
   ]
  },
  {
   "cell_type": "markdown",
   "id": "868e3989-4b93-4504-a569-9b30b95f5ba6",
   "metadata": {},
   "source": [
    "---\n",
    "\n",
    "#### **Lorentzian fit with Origin** <a class=\"anchor\" name=\"origin\"></a>\n",
    "\n",
    "Extract data from the AnIML file and store it in a TSV file to continue with Lorentzian fits in Origin (or any other software of choice)."
   ]
  },
  {
   "cell_type": "markdown",
   "id": "9fbbd8d7-8faf-44b9-b81c-4d6f55b9ac99",
   "metadata": {},
   "source": [
    "Export $q$ and $I$ to TSV for export to Origin:"
   ]
  },
  {
   "cell_type": "code",
   "execution_count": null,
   "id": "7e24838e-39e3-4814-8689-8e1270da46a7",
   "metadata": {},
   "outputs": [],
   "source": [
    "path_to_AnIML_file = path_to_datasets / f\"download/fairsaxs_220502.animl\""
   ]
  },
  {
   "cell_type": "code",
   "execution_count": null,
   "id": "2cd3724b-78a2-47cc-899e-1a119e72f6c9",
   "metadata": {},
   "outputs": [],
   "source": [
    "with path_to_AnIML_file.open(\"r\") as f:\n",
    "    xml_string = f.read()\n",
    "    animl_doc = AnIMLDocument.fromXMLString(xml_string)"
   ]
  },
  {
   "cell_type": "code",
   "execution_count": null,
   "id": "6b4468eb-0354-4756-925a-4bdb6312d67f",
   "metadata": {},
   "outputs": [],
   "source": [
    "reader = SeriesReader(animl_doc)"
   ]
  },
  {
   "cell_type": "code",
   "execution_count": null,
   "id": "511c6b46-6fb8-4ab5-9eac-472fb2d46b75",
   "metadata": {},
   "outputs": [],
   "source": [
    "list_of_IDs = reader.available_seriesIDs()\n",
    "print(list_of_IDs)"
   ]
  },
  {
   "cell_type": "code",
   "execution_count": null,
   "id": "147d4764-6002-4310-a702-c49187014286",
   "metadata": {},
   "outputs": [],
   "source": [
    "reader.add_seriesID([list_of_IDs[0], list_of_IDs[3]])\n",
    "dataframe = reader.create_dataframe()"
   ]
  },
  {
   "cell_type": "code",
   "execution_count": null,
   "id": "da920822-8716-4844-b6bb-5628766424fb",
   "metadata": {},
   "outputs": [],
   "source": [
    "path_to_TSV_file = path_to_datasets / f\"processed/fairsaxs_220502.tsv\""
   ]
  },
  {
   "cell_type": "code",
   "execution_count": null,
   "id": "6c16ec6e-4cbe-4614-9b1c-5af233f04ef8",
   "metadata": {},
   "outputs": [],
   "source": [
    "dataframe.to_csv(\n",
    "    path_or_buf=path_to_TSV_file,\n",
    "    sep=\"\\t\",\n",
    "    index=False\n",
    ")"
   ]
  },
  {
   "cell_type": "markdown",
   "id": "ab8937e6-6432-4d48-81ee-2fff110f463c",
   "metadata": {},
   "source": [
    "---\n",
    "\n",
    "### **Disclosure** <a class=\"anchor\" name=\"disclosure\"></a>\n",
    "\n",
    "**Contributions**\n",
    "\n",
    "If you wish to contribute to the FAIR Chemistry project, find us on [GitHub](https://github.com/FAIRChemistry)!\n",
    "\n",
    "**MIT License**\n",
    "\n",
    "Copyright (c) 2022 FAIR Chemistry\n",
    "\n",
    "Permission is hereby granted, free of charge, to any person obtaining a copy\n",
    "of this software and associated documentation files (the \"Software\"), to deal\n",
    "in the Software without restriction, including without limitation the rights\n",
    "to use, copy, modify, merge, publish, distribute, sublicense, and/or sell\n",
    "copies of the Software, and to permit persons to whom the Software is\n",
    "furnished to do so, subject to the following conditions:\n",
    "\n",
    "The above copyright notice and this permission notice shall be included in all\n",
    "copies or substantial portions of the Software.\n",
    "\n",
    "THE SOFTWARE IS PROVIDED \"AS IS\", WITHOUT WARRANTY OF ANY KIND, EXPRESS OR\n",
    "IMPLIED, INCLUDING BUT NOT LIMITED TO THE WARRANTIES OF MERCHANTABILITY,\n",
    "FITNESS FOR A PARTICULAR PURPOSE AND NONINFRINGEMENT. IN NO EVENT SHALL THE\n",
    "AUTHORS OR COPYRIGHT HOLDERS BE LIABLE FOR ANY CLAIM, DAMAGES OR OTHER\n",
    "LIABILITY, WHETHER IN AN ACTION OF CONTRACT, TORT OR OTHERWISE, ARISING FROM,\n",
    "OUT OF OR IN CONNECTION WITH THE SOFTWARE OR THE USE OR OTHER DEALINGS IN THE\n",
    "SOFTWARE."
   ]
  },
  {
   "cell_type": "code",
   "execution_count": null,
   "id": "b003ffef-a092-4f28-a1eb-ac35082c9464",
   "metadata": {},
   "outputs": [],
   "source": []
  }
 ],
 "metadata": {
  "kernelspec": {
   "display_name": "Python [conda env:fairsaxs]",
   "language": "python",
   "name": "conda-env-fairsaxs-py"
  },
  "language_info": {
   "codemirror_mode": {
    "name": "ipython",
    "version": 3
   },
   "file_extension": ".py",
   "mimetype": "text/x-python",
   "name": "python",
   "nbconvert_exporter": "python",
   "pygments_lexer": "ipython3",
   "version": "3.10.4"
  }
 },
 "nbformat": 4,
 "nbformat_minor": 5
}
