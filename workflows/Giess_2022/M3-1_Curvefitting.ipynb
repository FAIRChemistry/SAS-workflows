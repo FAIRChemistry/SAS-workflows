{
 "cells": [
  {
   "attachments": {},
   "cell_type": "markdown",
   "id": "d482f382-9096-427e-ac26-6d12b651a6e8",
   "metadata": {},
   "source": [
    "# FAIR and scalable management of small-angle X-ray scattering data  \n",
    "## Module 3: Data analysis and visualization\n",
    "### 3.1: Lorentzian fit with SAS-tools\n",
    "\n",
    "> Authors: Torsten Giess, Richard Schoemig \n",
    "> Last modified: 19.12.2022\n",
    "\n",
    "---"
   ]
  },
  {
   "attachments": {},
   "cell_type": "markdown",
   "id": "82c25029-b2d9-42cf-b9fa-cb9b161eed89",
   "metadata": {},
   "source": [
    "### **Abstract** <a class=\"anchor\" name=\"abstract\"></a>\n",
    "\n",
    "Using novel packages [sastools](https://github.com/FAIRChemistry/SAS-tools) (version 0.3.2) and [pyAnIML](https://github.com/FAIRChemistry/pyAnIML) (version 1.0.0), as well as packages from the Python 3 standard libary, this notebook provides an integrated fitting tool based on the python packages lmfit and signal.\n",
    "\n",
    "---"
   ]
  },
  {
   "cell_type": "markdown",
   "id": "08bca00d-8a2b-4903-a156-274f5680737e",
   "metadata": {},
   "source": [
    "### **Table of Contents** <a class=\"anchor\" name=\"table_of_contents\"></a>\n",
    "\n",
    "- [Abstract](#abstract)\n",
    "- [Workflow](#workflow)\n",
    "    - [User guide](#user_guide)\n",
    "    - [Preparation](#preparation)\n",
    "    - [Lorentzian fit with Origin](#origin)\n",
    "- [Disclosure](#disclosure)\n",
    "\n",
    "---"
   ]
  },
  {
   "cell_type": "markdown",
   "id": "d3a14dc3-3457-4d4c-9827-bde70a38926e",
   "metadata": {},
   "source": [
    "### **Workflow** <a class=\"anchor\" name=\"workflow\"></a>\n",
    "\n",
    "Following is the workflow for Module 3.1: Lorentzian fit with Origin of FAIR and scalable management of small-angle X-ray scattering data."
   ]
  },
  {
   "cell_type": "markdown",
   "id": "4ac5ea60-fb8b-4d11-9d42-981e4d7c1e9e",
   "metadata": {},
   "source": [
    "#### **User guide** <a class=\"anchor\" name=\"user_guide\"></a>\n",
    "\n",
    "This notebook can be used to create TSV files from data(sets) stored in the AnIML file and export them to external software for further analyses inlcuding Lorentzian fits of diffraction maxima."
   ]
  },
  {
   "cell_type": "markdown",
   "id": "778d2b3b-b837-47dc-bd46-1e718ae867ed",
   "metadata": {},
   "source": [
    "#### **Preparation** <a class=\"anchor\" name=\"preparation\"></a>\n",
    "\n",
    "This section contains the necessary preparations for using this module. Code cells in this section are required regardless of which functionality of this notebook is used. First, the required packages from the [Python 3 standard library](https://docs.python.org/3/library/), the Python Package Index ([PyPI](https://pypi.org/)), and *ad hoc* modules of this work are imported. Then, both current time and path are retrieved and stored in the desired formats."
   ]
  },
  {
   "cell_type": "code",
   "execution_count": 95,
   "id": "3030bb86-729f-4729-8ff7-e412b0f6e849",
   "metadata": {},
   "outputs": [
    {
     "name": "stdout",
     "output_type": "stream",
     "text": [
      "Importing standard library packages.\n",
      "Done.\n"
     ]
    }
   ],
   "source": [
    "print(\"Importing standard library packages.\")\n",
    "from datetime import date\n",
    "from pathlib import Path\n",
    "import numpy as np\n",
    "print (\"Done.\")"
   ]
  },
  {
   "cell_type": "code",
   "execution_count": 96,
   "id": "40310912-809a-4a64-8440-19e1dcad5eeb",
   "metadata": {},
   "outputs": [
    {
     "name": "stdout",
     "output_type": "stream",
     "text": [
      "Importing PyPI packages.\n",
      "Done.\n"
     ]
    }
   ],
   "source": [
    "print(\"Importing PyPI packages.\")\n",
    "from pyaniml import AnIMLDocument\n",
    "from sastools.analyzer import Analyzer\n",
    "from sastools.readers import SeriesReader\n",
    "print (\"Done.\")"
   ]
  },
  {
   "cell_type": "code",
   "execution_count": 97,
   "id": "b6867753-1a79-4f4b-8c3f-b053ce4ab7b3",
   "metadata": {},
   "outputs": [],
   "source": [
    "date_suffix = str(date.today()).replace(\"-\", \"\")[2:]"
   ]
  },
  {
   "cell_type": "code",
   "execution_count": 98,
   "id": "18d69ade-5b4c-45e2-9e6b-9247f4d61b7d",
   "metadata": {},
   "outputs": [
    {
     "name": "stdout",
     "output_type": "stream",
     "text": [
      "/mnt/c/Users/rscho/Documents/GitHub/SAS-workflows/workflows/Giess_2022\n",
      "/mnt/c/Users/rscho/Documents/GitHub/SAS-workflows/workflows/Giess_2022/datasets\n"
     ]
    }
   ],
   "source": [
    "cwd = Path.cwd()\n",
    "path_to_datasets = cwd / \"./datasets/\"\n",
    "print(cwd)\n",
    "print(path_to_datasets)"
   ]
  },
  {
   "cell_type": "markdown",
   "id": "868e3989-4b93-4504-a569-9b30b95f5ba6",
   "metadata": {},
   "source": [
    "---\n",
    "\n",
    "#### **Lorentzian fit with Origin** <a class=\"anchor\" name=\"origin\"></a>\n",
    "\n",
    "Extract data from the AnIML file and store it in a TSV file to continue with Lorentzian fits in Origin (or any other software of choice)."
   ]
  },
  {
   "cell_type": "markdown",
   "id": "9fbbd8d7-8faf-44b9-b81c-4d6f55b9ac99",
   "metadata": {},
   "source": [
    "Export $q$ and $I$ to TSV for export to Origin:"
   ]
  },
  {
   "cell_type": "code",
   "execution_count": 99,
   "id": "7e24838e-39e3-4814-8689-8e1270da46a7",
   "metadata": {},
   "outputs": [],
   "source": [
    "path_to_AnIML_file = path_to_datasets / f\"download/fairsaxs_220512/fairsaxs_220512.animl\""
   ]
  },
  {
   "cell_type": "code",
   "execution_count": 100,
   "id": "2cd3724b-78a2-47cc-899e-1a119e72f6c9",
   "metadata": {},
   "outputs": [],
   "source": [
    "with path_to_AnIML_file.open(\"r\") as f:\n",
    "    xml_string = f.read()\n",
    "    animl_doc = AnIMLDocument.fromXMLString(xml_string)"
   ]
  },
  {
   "cell_type": "code",
   "execution_count": 101,
   "id": "6b4468eb-0354-4756-925a-4bdb6312d67f",
   "metadata": {},
   "outputs": [],
   "source": [
    "reader = SeriesReader(animl_doc)"
   ]
  },
  {
   "cell_type": "code",
   "execution_count": 102,
   "id": "511c6b46-6fb8-4ab5-9eac-472fb2d46b75",
   "metadata": {},
   "outputs": [
    {
     "name": "stdout",
     "output_type": "stream",
     "text": [
      "CholPal_20220214\n",
      "OTAB_010wtp_T025\n",
      "OTAB_020wtp_T025\n",
      "OTAB_030wtp_T025\n",
      "OTAB_040wtp_T025\n",
      "OTAB_050wtp_T025\n",
      "OTAB_061wtp_T025\n",
      "OTAB_062wtp_T025\n",
      "OTAB_063wtp_T025\n",
      "OTAB_064wtp_T025\n",
      "OTAB_065wtp_T025\n",
      "OTAB_066wtp_T025\n",
      "OTAB_067wtp_T025\n",
      "OTAB_068wtp_T025\n",
      "OTAB_069wtp_T025\n",
      "OTAB_070wtp_T025\n",
      "OTAB_071wtp_T025\n",
      "OTAB_073wtp_T025\n",
      "OTAB_074wtp_T025\n",
      "OTAB_075wtp_T025\n",
      "OTAB_078wtp_T025\n",
      "OTAB_079wtp_T025\n",
      "OTAB_080wtp_T025\n",
      "OTAB_090wtp_T025\n",
      "OTAB_100wtp_T025\n",
      "OTAB_078wtp_T058\n",
      "OTAB_078wtp_T060\n",
      "OTAB_082wtp_T025\n",
      "OTAB_093wtp_T025\n",
      "OTAB_100wtp_T095\n",
      "OTAC_001wtp_T025\n",
      "OTAC_005wtp_T025\n",
      "OTAC_010wtp_T025\n",
      "OTAC_020wtp_T025\n",
      "OTAC_030wtp_T025\n",
      "OTAC_040wtp_T025\n",
      "OTAC_050wtp_T025\n",
      "OTAC_060wtp_T025\n",
      "OTAC_061wtp_T025\n",
      "OTAC_062wtp_T025\n",
      "OTAC_063wtp_T025\n",
      "OTAC_064wtp_T025\n",
      "OTAC_065wtp_T025\n",
      "OTAC_066wtp_T025\n",
      "OTAC_067wtp_T025\n",
      "OTAC_068wtp_T025\n",
      "OTAC_069wtp_T025\n",
      "OTAC_070wtp_T025\n",
      "OTAC_080wtp_T025\n",
      "OTAC_090wtp_T025\n",
      "OTAC_091wtp_T025\n",
      "OTAC_092wtp_T025\n",
      "OTAC_093wtp_T025\n",
      "OTAC_094wtp_T025\n",
      "OTAC_095wtp_T025\n",
      "OTAC_100wtp_T025\n",
      "OTAC_085wtp_T074\n",
      "OTAC_090wtp_T010\n",
      "OTAC_094wtp_T050\n",
      "OTAC_094wtp_T062\n",
      "OTAC_094wtp_T068\n",
      "OTAC_095wtp_T070\n",
      "OTAC_097wtp_T065\n"
     ]
    }
   ],
   "source": [
    "list_of_IDs = reader.available_seriesIDs\n",
    "for series_ID in list_of_IDs:\n",
    "    print(series_ID)"
   ]
  },
  {
   "cell_type": "code",
   "execution_count": 103,
   "id": "147d4764-6002-4310-a702-c49187014286",
   "metadata": {},
   "outputs": [
    {
     "name": "stdout",
     "output_type": "stream",
     "text": [
      "      CholPal_20220214_q  CholPal_20220214_i\n",
      "0               0.114488        2.772433e-12\n",
      "1               0.121128        8.453862e-12\n",
      "2               0.127769        1.096632e-12\n",
      "3               0.134409        1.764940e-12\n",
      "4               0.141050        7.023565e-13\n",
      "...                  ...                 ...\n",
      "1100            7.328884        2.915681e-06\n",
      "1101            7.335285        4.923844e-11\n",
      "1102            7.348087        7.298661e-08\n",
      "1103            7.360886        5.776745e-08\n",
      "1104            7.367286        9.793908e-08\n",
      "\n",
      "[1105 rows x 2 columns]\n"
     ]
    }
   ],
   "source": [
    "reader.selected_seriesIDs = [list_of_IDs[0]] # , list_of_IDs[3]]\n",
    "dataframe = reader.create_dataframe()\n",
    "print(dataframe)"
   ]
  },
  {
   "cell_type": "code",
   "execution_count": 104,
   "id": "b9af7133",
   "metadata": {},
   "outputs": [
    {
     "name": "stdout",
     "output_type": "stream",
     "text": [
      "CholPal is selected\n"
     ]
    }
   ],
   "source": [
    "file_name = reader.selected_seriesIDs[0]\n",
    "if 'OTAB' in file_name:\n",
    "    compound = 'OTAB'\n",
    "    print(compound, 'is selected')\n",
    "elif 'OTAC' in file_name:\n",
    "    compound = 'OTAC'\n",
    "    print(compound, 'is selected')\n",
    "else:\n",
    "    print('CholPal is selected')"
   ]
  },
  {
   "cell_type": "code",
   "execution_count": 105,
   "id": "b0db63c4",
   "metadata": {},
   "outputs": [],
   "source": [
    "path_to_sastools_curvefitting = path_to_datasets / f'./raw/{compound}_measurement_data/Lorentzian_fitting_data/sastools-curvefitting/'\n",
    "path_to_plots = path_to_sastools_curvefitting / './plots/'\n",
    "path_to_fitting_data = path_to_sastools_curvefitting / './fitting_data/'"
   ]
  },
  {
   "cell_type": "code",
   "execution_count": 106,
   "id": "b003ffef-a092-4f28-a1eb-ac35082c9464",
   "metadata": {},
   "outputs": [
    {
     "name": "stdout",
     "output_type": "stream",
     "text": [
      "number of found peaks: 7\n",
      "peak number: 1 x: 0.3070601 y: 10.65627\n",
      "peak number: 2 x: 1.169988 y: 4.990954\n",
      "peak number: 3 x: 2.342835 y: 17.8426\n",
      "peak number: 4 x: 3.51791 y: 4.338875\n",
      "peak number: 5 x: 4.69296 y: 0.3574511\n",
      "peak number: 6 x: 6.073134 y: 0.3740223\n",
      "peak number: 7 x: 6.706043 y: 0.4865745\n"
     ]
    },
    {
     "data": {
      "image/png": "[encoded data removed]",
      "text/plain": [
       "<Figure size 432x288 with 1 Axes>"
      ]
     },
     "metadata": {
      "needs_background": "light"
     },
     "output_type": "display_data"
    }
   ],
   "source": [
    "analyzer = Analyzer(\n",
    "    dataframe,                # creating an instance of Analyzer and initialize with the experimental data as pd.DataFrame\n",
    "    file_name,\n",
    "    path_to_plots,\n",
    "    path_to_fitting_data\n",
    ") \n",
    "# analyzer.plot_data()\n",
    "analyzer.find_peaks_cwt(                        # searching for peaks using the cwt method\n",
    "    peak_widths= 5,# np.arange(0.5, 10.),             # withs of the peaks that are of interest\n",
    "    cutoff_amplitude=0.3           \n",
    ")"
   ]
  },
  {
   "cell_type": "code",
   "execution_count": 107,
   "id": "da54fb4f",
   "metadata": {},
   "outputs": [],
   "source": [
    "analyzer.set_specifications_automatically(\n",
    "    model_type = 'LorentzianModel',           # model type ('GaussianModel', 'LorentzianModel' or 'VoigtModel')\n",
    "    tolerance = 0.01                           # tolerated variance of the peak location between model parameters given by \n",
    "                                              # the automatic_peak_finding and the final fit parameters (default is 0.5)\n",
    ")"
   ]
  },
  {
   "cell_type": "code",
   "execution_count": 108,
   "id": "02255e3f",
   "metadata": {},
   "outputs": [],
   "source": [
    "# analyzer.set_specifications_manually(           # setting up the specifications for the fitting process\n",
    "#     number_of_models=1,                         # number of models to fit the data \n",
    "#     model_specifications = [                    # specifications for every single model to be used for fitting.\n",
    "#                                                 # Unlike for the automatically set specifications, different model types can be mixed! (See model type)\n",
    "#                                                 # number_of_models parameter has to match with the actual number of models provided in the input.\n",
    "#                                                 # (This restriction will be lifted and excess models will be fitted automatically and used as\n",
    "#                                                 # 'auxiliary models' for small peaks/noise/biases).\n",
    "#         [\n",
    "#             'LorentzianModel',                  # model type ('GaussianModel', 'LorentzianModel' or 'VoigtModel')\n",
    "#             [2.3, 0.85, 1.],                     # model parameters (center, amplitude, sigma) see also https://lmfit.github.io/lmfit-py/builtin_models.html\n",
    "#             [2.3, 2.4]                           # restriction parameters (lower and upper bound of center parameter)\n",
    "#         ],                                      # ...\n",
    "#         [                                       # ..\n",
    "#             'LorentzianModel',                  # .\n",
    "#             [2.6, 0.5, 0.1],\n",
    "#             [2.55, 2.65]\n",
    "#         ],\n",
    "#         [\n",
    "#             'LorentzianModel',\n",
    "#             [2.7, 1.7, 0.1],\n",
    "#             [2.65, 2.75]\n",
    "#         ],\n",
    "#         [\n",
    "#             'LorentzianModel',\n",
    "#             [2.85, 0.27, 0.1],\n",
    "#             [2.8, 2.9]\n",
    "#         ],\n",
    "#         [\n",
    "#             'LorentzianModel',\n",
    "#             [3., 0.1, 0.1],\n",
    "#             [2.95, 3.05]\n",
    "#         ],\n",
    "#         [\n",
    "#             'LorentzianModel',\n",
    "#             [3.14, 5., 0.05],\n",
    "#             [3.1, 3.16]\n",
    "#         ],\n",
    "#         [\n",
    "#             'LorentzianModel',\n",
    "#             [5.9, 0.1, 0.1],\n",
    "#             [5.85, 5.95]\n",
    "#         ],\n",
    "#         [\n",
    "#             'LorentzianModel',\n",
    "#             [6.2, 0.7, 0.1],\n",
    "#             [6.15, 6.25]\n",
    "#         ]\n",
    "#     ]\n",
    "# )"
   ]
  },
  {
   "cell_type": "code",
   "execution_count": 109,
   "id": "73e3b28a",
   "metadata": {},
   "outputs": [
    {
     "name": "stdout",
     "output_type": "stream",
     "text": [
      "model6_amplitude : 0.13133807319394253\n",
      "model6_center : 6.716042999998604\n",
      "model6_sigma : 7.252471964593311\n",
      "model5_amplitude : 0.07915687311639241\n",
      "model5_center : 6.083133999997711\n",
      "model5_sigma : 7.245404248770734\n",
      "model4_amplitude : 0.3979958557742508\n",
      "model4_center : 4.702959999999157\n",
      "model4_sigma : 6.296036859229399\n",
      "model3_amplitude : 0.0038763144666972282\n",
      "model3_center : 3.527909999866952\n",
      "model3_sigma : 4.567822089286464\n",
      "model2_amplitude : 0.6724857642170298\n",
      "model2_center : 2.343504249817807\n",
      "model2_sigma : 0.011608001558428569\n",
      "model1_amplitude : 1.863707901101142\n",
      "model1_center : 1.1599931056673425\n",
      "model1_sigma : 0.8305926172908825\n",
      "model0_amplitude : 1.4813243960738625\n",
      "model0_center : 0.31706008803489644\n",
      "model0_sigma : 0.043850257136370765\n"
     ]
    },
    {
     "data": {
      "image/png": "[encoded data removed]",
      "text/plain": [
       "<Figure size 432x432 with 2 Axes>"
      ]
     },
     "metadata": {
      "needs_background": "light"
     },
     "output_type": "display_data"
    }
   ],
   "source": [
    "analyzer.fit()                                  # fit the model using the generated specifications set (dict in json format)\n",
    "analyzer.plot_fit() "
   ]
  },
  {
   "cell_type": "code",
   "execution_count": 110,
   "id": "3f44808d",
   "metadata": {},
   "outputs": [],
   "source": [
    "analyzer.list_of_model_centers()\n"
   ]
  },
  {
   "attachments": {},
   "cell_type": "markdown",
   "id": "68fec65e",
   "metadata": {},
   "source": [
    "---\n",
    "\n",
    "### **Disclosure** <a class=\"anchor\" name=\"disclosure\"></a>\n",
    "\n",
    "**Contributions**\n",
    "\n",
    "If you wish to contribute to the FAIR Chemistry project, find us on [GitHub](https://github.com/FAIRChemistry)!\n",
    "\n",
    "**MIT License**\n",
    "\n",
    "Copyright (c) 2022 FAIR Chemistry\n",
    "\n",
    "Permission is hereby granted, free of charge, to any person obtaining a copy\n",
    "of this software and associated documentation files (the \"Software\"), to deal\n",
    "in the Software without restriction, including without limitation the rights\n",
    "to use, copy, modify, merge, publish, distribute, sublicense, and/or sell\n",
    "copies of the Software, and to permit persons to whom the Software is\n",
    "furnished to do so, subject to the following conditions:\n",
    "\n",
    "The above copyright notice and this permission notice shall be included in all\n",
    "copies or substantial portions of the Software.\n",
    "\n",
    "THE SOFTWARE IS PROVIDED \"AS IS\", WITHOUT WARRANTY OF ANY KIND, EXPRESS OR\n",
    "IMPLIED, INCLUDING BUT NOT LIMITED TO THE WARRANTIES OF MERCHANTABILITY,\n",
    "FITNESS FOR A PARTICULAR PURPOSE AND NONINFRINGEMENT. IN NO EVENT SHALL THE\n",
    "AUTHORS OR COPYRIGHT HOLDERS BE LIABLE FOR ANY CLAIM, DAMAGES OR OTHER\n",
    "LIABILITY, WHETHER IN AN ACTION OF CONTRACT, TORT OR OTHERWISE, ARISING FROM,\n",
    "OUT OF OR IN CONNECTION WITH THE SOFTWARE OR THE USE OR OTHER DEALINGS IN THE\n",
    "SOFTWARE."
   ]
  }
 ],
 "metadata": {
  "kernelspec": {
   "display_name": "b07",
   "language": "python",
   "name": "python3"
  },
  "language_info": {
   "codemirror_mode": {
    "name": "ipython",
    "version": 3
   },
   "file_extension": ".py",
   "mimetype": "text/x-python",
   "name": "python",
   "nbconvert_exporter": "python",
   "pygments_lexer": "ipython3",
   "version": "3.10.4"
  },
  "vscode": {
   "interpreter": {
    "hash": "9f62ab2d43dc75e3c3b007469adeb0f7488873df876b9b71dd3b119f0280ba41"
   }
  }
 },
 "nbformat": 4,
 "nbformat_minor": 5
}
