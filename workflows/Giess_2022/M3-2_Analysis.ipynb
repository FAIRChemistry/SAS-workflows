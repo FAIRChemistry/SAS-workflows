{
 "cells": [
  {
   "cell_type": "markdown",
   "id": "d482f382-9096-427e-ac26-6d12b651a6e8",
   "metadata": {},
   "source": [
    "# FAIR and scalable management of small-angle X-ray scattering data  \n",
    "## Module 3: Data analysis and visualization\n",
    "### 3.2: Analysis\n",
    "\n",
    "> Authors: Torsten Giess, Selina Itzigehl  \n",
    "> Last modified: 15.12.2022\n",
    "\n",
    "---"
   ]
  },
  {
   "cell_type": "markdown",
   "id": "82c25029-b2d9-42cf-b9fa-cb9b161eed89",
   "metadata": {},
   "source": [
    "### **Abstract** <a class=\"anchor\" name=\"abstract\"></a>\n",
    "\n",
    "Using novel package [sastools](https://github.com/FAIRChemistry/SAS-tools) (version 0.3.2), as well as established packages numpy (version 1.23.5) and pandas (version 1.5.2), as well as packages from the Python 3 standard libary, this notebook provides the means to determine the lyotropic liquid crystalline phase and lattice parameter _a_ from the peak centers of a diffractogram by calibration of scattering vectors and calculation of lattice plane distances. \n",
    "\n",
    "---"
   ]
  },
  {
   "cell_type": "markdown",
   "id": "08bca00d-8a2b-4903-a156-274f5680737e",
   "metadata": {},
   "source": [
    "### **Table of Contents** <a class=\"anchor\" name=\"table_of_contents\"></a>\n",
    "\n",
    "- [Abstract](#abstract)\n",
    "- [Workflow](#workflow)\n",
    "    - [User guide](#user_guide)\n",
    "    - [Preparation](#preparation)\n",
    "    - [Analysis with Python](#analysis)\n",
    "- [Disclosure](#disclosure)\n",
    "\n",
    "---"
   ]
  },
  {
   "cell_type": "markdown",
   "id": "d3a14dc3-3457-4d4c-9827-bde70a38926e",
   "metadata": {},
   "source": [
    "### **Workflow** <a class=\"anchor\" name=\"workflow\"></a>\n",
    "\n",
    "Following is the workflow for Module 3.2: Analysis of FAIR and scalable management of small-angle X-ray scattering data."
   ]
  },
  {
   "cell_type": "markdown",
   "id": "4ac5ea60-fb8b-4d11-9d42-981e4d7c1e9e",
   "metadata": {},
   "source": [
    "#### **User guide** <a class=\"anchor\" name=\"user_guide\"></a>\n",
    "\n",
    "This notebook can be used to determine the lyotropic liquid crystalline phase as well as the corresponding lattice parameter _a_ from the peak centers obtained from previous evaluation of diffractograms by providing calibration and calculation of required values."
   ]
  },
  {
   "cell_type": "markdown",
   "id": "778d2b3b-b837-47dc-bd46-1e718ae867ed",
   "metadata": {},
   "source": [
    "#### **Preparation** <a class=\"anchor\" name=\"preparation\"></a>\n",
    "\n",
    "This section contains the necessary preparations for using this module. Code cells in this section are required regardless of which functionality of this notebook is used. First, the required packages from the [Python 3 standard library](https://docs.python.org/3/library/), the Python Package Index ([PyPI](https://pypi.org/)), and *ad hoc* modules of this work are imported. Then, both current time and path are retrieved and stored in the desired formats."
   ]
  },
  {
   "cell_type": "code",
   "execution_count": 32,
   "id": "3030bb86-729f-4729-8ff7-e412b0f6e849",
   "metadata": {},
   "outputs": [
    {
     "name": "stdout",
     "output_type": "stream",
     "text": [
      "Importing standard library packages.\n",
      "Done.\n"
     ]
    }
   ],
   "source": [
    "print(\"Importing standard library packages.\")\n",
    "from datetime import date\n",
    "from pathlib import Path\n",
    "from typing import List\n",
    "print (\"Done.\")"
   ]
  },
  {
   "cell_type": "code",
   "execution_count": 33,
   "id": "40310912-809a-4a64-8440-19e1dcad5eeb",
   "metadata": {},
   "outputs": [
    {
     "name": "stdout",
     "output_type": "stream",
     "text": [
      "Importing PyPI packages.\n",
      "Done.\n"
     ]
    }
   ],
   "source": [
    "print(\"Importing PyPI packages.\")\n",
    "import numpy as np\n",
    "import matplotlib.pyplot as plt\n",
    "import pandas as pd\n",
    "from pyaniml import AnIMLDocument, Category, Parameter\n",
    "from sastools.analyzer import SAXSStandards, LLCPhases, PrepareStandard, LLCAnalyzer\n",
    "from sastools.readers import OriginReader, infer_type\n",
    "from sklearn.metrics import r2_score\n",
    "print (\"Done.\")"
   ]
  },
  {
   "cell_type": "code",
   "execution_count": 34,
   "id": "b6867753-1a79-4f4b-8c3f-b053ce4ab7b3",
   "metadata": {},
   "outputs": [],
   "source": [
    "date_suffix = str(date.today()).replace(\"-\", \"\")[2:]"
   ]
  },
  {
   "cell_type": "code",
   "execution_count": 35,
   "id": "18d69ade-5b4c-45e2-9e6b-9247f4d61b7d",
   "metadata": {},
   "outputs": [],
   "source": [
    "cwd = Path.cwd()\n",
    "path_to_datasets = cwd / \"./datasets/\""
   ]
  },
  {
   "cell_type": "markdown",
   "id": "1feeace0-25c6-4e2e-8974-bfe4e76ba88b",
   "metadata": {
    "tags": []
   },
   "source": [
    "---\n",
    "\n",
    "#### **Analysis with Python** <a class=\"anchor\" name=\"analysis\"></a>\n",
    "\n",
    "Determine the lyotropic liquid crystalline (LLC) phase and calculate the lattice parameter from measured datasets and store the results in the respective AnIML file(s)."
   ]
  },
  {
   "cell_type": "markdown",
   "id": "6cf246b3-c48f-4272-90ba-1dd85ef6ba32",
   "metadata": {},
   "source": [
    "Open AnIML document to later append analysis results from this Notebook."
   ]
  },
  {
   "cell_type": "code",
   "execution_count": 36,
   "id": "2558298d-72c0-4371-9120-d974c7a5128a",
   "metadata": {},
   "outputs": [],
   "source": [
    "path_to_AnIML_file = path_to_datasets / f\"processed/fairsaxs_220512.animl\""
   ]
  },
  {
   "cell_type": "code",
   "execution_count": 37,
   "id": "30f95ac0-f417-40f5-8883-3d9c49facf0b",
   "metadata": {},
   "outputs": [],
   "source": [
    "with path_to_AnIML_file.open(\"r\") as f:\n",
    "    xml_string = f.read()\n",
    "    animl_doc = AnIMLDocument.fromXMLString(xml_string)"
   ]
  },
  {
   "cell_type": "markdown",
   "id": "d49b37b8-134d-4621-8928-7c90cd2e1d35",
   "metadata": {},
   "source": [
    "Access the Result of the ExperimentStep this analysis belongs to."
   ]
  },
  {
   "cell_type": "code",
   "execution_count": 38,
   "id": "b5eee47f-e747-4c75-a50f-178cb7bd55fc",
   "metadata": {},
   "outputs": [
    {
     "name": "stdout",
     "output_type": "stream",
     "text": [
      "0 ID: CholPal_cal_20220214;    Name: Calibration data\n",
      "1 ID: OTAB_010wtp_T025;    Name: Sample data for OTAB/water: x = 010 wt%; T = 25 C\n",
      "2 ID: OTAB_020wtp_T025;    Name: Sample data for OTAB/water: x = 020 wt%; T = 25 C\n",
      "3 ID: OTAB_030wtp_T025;    Name: Sample data for OTAB/water: x = 030 wt%; T = 25 C\n",
      "4 ID: OTAB_040wtp_T025;    Name: Sample data for OTAB/water: x = 040 wt%; T = 25 C\n",
      "5 ID: OTAB_050wtp_T025;    Name: Sample data for OTAB/water: x = 050 wt%; T = 25 C\n",
      "6 ID: OTAB_061wtp_T025;    Name: Sample data for OTAB/water: x = 061 wt%; T = 25 C\n",
      "7 ID: OTAB_062wtp_T025;    Name: Sample data for OTAB/water: x = 062 wt%; T = 25 C\n",
      "8 ID: OTAB_063wtp_T025;    Name: Sample data for OTAB/water: x = 063 wt%; T = 25 C\n",
      "9 ID: OTAB_064wtp_T025;    Name: Sample data for OTAB/water: x = 064 wt%; T = 25 C\n",
      "10 ID: OTAB_065wtp_T025;    Name: Sample data for OTAB/water: x = 065 wt%; T = 25 C\n",
      "11 ID: OTAB_066wtp_T025;    Name: Sample data for OTAB/water: x = 066 wt%; T = 25 C\n",
      "12 ID: OTAB_067wtp_T025;    Name: Sample data for OTAB/water: x = 067 wt%; T = 25 C\n",
      "13 ID: OTAB_068wtp_T025;    Name: Sample data for OTAB/water: x = 068 wt%; T = 25 C\n",
      "14 ID: OTAB_069wtp_T025;    Name: Sample data for OTAB/water: x = 069 wt%; T = 25 C\n",
      "15 ID: OTAB_070wtp_T025;    Name: Sample data for OTAB/water: x = 070 wt%; T = 25 C\n",
      "16 ID: OTAB_071wtp_T025;    Name: Sample data for OTAB/water: x = 071 wt%; T = 25 C\n",
      "17 ID: OTAB_073wtp_T025;    Name: Sample data for OTAB/water: x = 073 wt%; T = 25 C\n",
      "18 ID: OTAB_074wtp_T025;    Name: Sample data for OTAB/water: x = 074 wt%; T = 25 C\n",
      "19 ID: OTAB_075wtp_T025;    Name: Sample data for OTAB/water: x = 075 wt%; T = 25 C\n",
      "20 ID: OTAB_078wtp_T025;    Name: Sample data for OTAB/water: x = 078 wt%; T = 25 C\n",
      "21 ID: OTAB_079wtp_T025;    Name: Sample data for OTAB/water: x = 079 wt%; T = 25 C\n",
      "22 ID: OTAB_080wtp_T025;    Name: Sample data for OTAB/water: x = 080 wt%; T = 25 C\n",
      "23 ID: OTAB_090wtp_T025;    Name: Sample data for OTAB/water: x = 090 wt%; T = 25 C\n",
      "24 ID: OTAB_100wtp_T025;    Name: Sample data for OTAB/water: x = 100 wt%; T = 25 C\n",
      "25 ID: OTAB_078wtp_T058;    Name: Sample data for OTAB/water: x = 078 wt%; T = 58 C\n",
      "26 ID: OTAB_078wtp_T060;    Name: Sample data for OTAB/water: x = 078 wt%; T = 60 C\n",
      "27 ID: OTAB_082wtp_T025;    Name: Sample data for OTAB/water: x = 082 wt%; T = 25 C\n",
      "28 ID: OTAB_093wtp_T025;    Name: Sample data for OTAB/water: x = 093 wt%; T = 25 C\n",
      "29 ID: OTAB_100wtp_T095;    Name: Sample data for OTAB/water: x = 100 wt%; T = 95 C\n",
      "30 ID: OTAC_001wtp_T025;    Name: Sample data for OTAC/water: x = 001 wt%; T = 25 C\n",
      "31 ID: OTAC_005wtp_T025;    Name: Sample data for OTAC/water: x = 005 wt%; T = 25 C\n",
      "32 ID: OTAC_010wtp_T025;    Name: Sample data for OTAC/water: x = 010 wt%; T = 25 C\n",
      "33 ID: OTAC_020wtp_T025;    Name: Sample data for OTAC/water: x = 020 wt%; T = 25 C\n",
      "34 ID: OTAC_030wtp_T025;    Name: Sample data for OTAC/water: x = 030 wt%; T = 25 C\n",
      "35 ID: OTAC_040wtp_T025;    Name: Sample data for OTAC/water: x = 040 wt%; T = 25 C\n",
      "36 ID: OTAC_050wtp_T025;    Name: Sample data for OTAC/water: x = 050 wt%; T = 25 C\n",
      "37 ID: OTAC_060wtp_T025;    Name: Sample data for OTAC/water: x = 060 wt%; T = 25 C\n",
      "38 ID: OTAC_061wtp_T025;    Name: Sample data for OTAC/water: x = 061 wt%; T = 25 C\n",
      "39 ID: OTAC_062wtp_T025;    Name: Sample data for OTAC/water: x = 062 wt%; T = 25 C\n",
      "40 ID: OTAC_063wtp_T025;    Name: Sample data for OTAC/water: x = 063 wt%; T = 25 C\n",
      "41 ID: OTAC_064wtp_T025;    Name: Sample data for OTAC/water: x = 064 wt%; T = 25 C\n",
      "42 ID: OTAC_065wtp_T025;    Name: Sample data for OTAC/water: x = 065 wt%; T = 25 C\n",
      "43 ID: OTAC_066wtp_T025;    Name: Sample data for OTAC/water: x = 066 wt%; T = 25 C\n",
      "44 ID: OTAC_067wtp_T025;    Name: Sample data for OTAC/water: x = 067 wt%; T = 25 C\n",
      "45 ID: OTAC_068wtp_T025;    Name: Sample data for OTAC/water: x = 068 wt%; T = 25 C\n",
      "46 ID: OTAC_069wtp_T025;    Name: Sample data for OTAC/water: x = 069 wt%; T = 25 C\n",
      "47 ID: OTAC_070wtp_T025;    Name: Sample data for OTAC/water: x = 070 wt%; T = 25 C\n",
      "48 ID: OTAC_080wtp_T025;    Name: Sample data for OTAC/water: x = 080 wt%; T = 25 C\n",
      "49 ID: OTAC_090wtp_T025;    Name: Sample data for OTAC/water: x = 090 wt%; T = 25 C\n",
      "50 ID: OTAC_091wtp_T025;    Name: Sample data for OTAC/water: x = 091 wt%; T = 25 C\n",
      "51 ID: OTAC_092wtp_T025;    Name: Sample data for OTAC/water: x = 092 wt%; T = 25 C\n",
      "52 ID: OTAC_093wtp_T025;    Name: Sample data for OTAC/water: x = 093 wt%; T = 25 C\n",
      "53 ID: OTAC_094wtp_T025;    Name: Sample data for OTAC/water: x = 094 wt%; T = 25 C\n",
      "54 ID: OTAC_095wtp_T025;    Name: Sample data for OTAC/water: x = 095 wt%; T = 25 C\n",
      "55 ID: OTAC_100wtp_T025;    Name: Sample data for OTAC/water: x = 100 wt%; T = 25 C\n",
      "56 ID: OTAC_085wtp_T074;    Name: Sample data for OTAC/water: x = 085 wt%; T = 74 C\n",
      "57 ID: OTAC_090wtp_T010;    Name: Sample data for OTAC/water: x = 090 wt%; T = 10 C\n",
      "58 ID: OTAC_094wtp_T050;    Name: Sample data for OTAC/water: x = 094 wt%; T = 50 C\n",
      "59 ID: OTAC_094wtp_T062;    Name: Sample data for OTAC/water: x = 094 wt%; T = 62 C\n",
      "60 ID: OTAC_094wtp_T068;    Name: Sample data for OTAC/water: x = 094 wt%; T = 68 C\n",
      "61 ID: OTAC_095wtp_T070;    Name: Sample data for OTAC/water: x = 095 wt%; T = 70 C\n",
      "62 ID: OTAC_097wtp_T065;    Name: Sample data for OTAC/water: x = 097 wt%; T = 65 C\n"
     ]
    }
   ],
   "source": [
    "for index, item in enumerate(animl_doc.experiment_step_set.experiment_steps):\n",
    "    print(index, f\"ID: {item.experiment_step_id};    Name: {item.name}\")"
   ]
  },
  {
   "cell_type": "code",
   "execution_count": 39,
   "id": "8980961f-1e32-41aa-93e3-1c714daf2b39",
   "metadata": {},
   "outputs": [],
   "source": [
    "experiment_step = animl_doc.experiment_step_set.experiment_steps[60].result"
   ]
  },
  {
   "cell_type": "markdown",
   "id": "9bd67eef-e121-4502-8277-07e409fdd94d",
   "metadata": {},
   "source": [
    "Create the new Category for the analysis results."
   ]
  },
  {
   "cell_type": "code",
   "execution_count": 40,
   "id": "da48feb4-6ee2-40d3-97ea-d9697d41a1a3",
   "metadata": {},
   "outputs": [],
   "source": [
    "new_category = Category(name=\"Analyses\")"
   ]
  },
  {
   "cell_type": "markdown",
   "id": "84797c56-3019-4129-80c9-6e2e86224448",
   "metadata": {},
   "source": [
    "Import Lorentzian fit data from Origin TXT output file. For several measurement datasets select the respective folder."
   ]
  },
  {
   "cell_type": "code",
   "execution_count": 41,
   "id": "1827fc6e-3217-4e66-87e3-3337244f737c",
   "metadata": {},
   "outputs": [
    {
     "name": "stdout",
     "output_type": "stream",
     "text": [
      "['CholPal_20220214_lorentz.txt', 'OTAC_070wtp_T025_lorentz.txt', 'OTAC_090wtp_T010_lorentz.txt', 'OTAC_094wtp_T050_lorentz.txt', 'OTAC_094wtp_T068_lorentz.txt']\n"
     ]
    }
   ],
   "source": [
    "available_txt_files = [file for file in (path_to_datasets / \"raw/OTAC_measurement_data/Lorentzian_fitting_data\").glob(\"*.txt\")]\n",
    "print([file.name for file in available_txt_files])"
   ]
  },
  {
   "cell_type": "code",
   "execution_count": 42,
   "id": "db9d216b-dd90-45dd-8bfb-fba84400ca36",
   "metadata": {},
   "outputs": [
    {
     "name": "stdout",
     "output_type": "stream",
     "text": [
      "dict_keys(['CholPal_20220214_lorentz.txt', 'OTAC_070wtp_T025_lorentz.txt', 'OTAC_090wtp_T010_lorentz.txt', 'OTAC_094wtp_T050_lorentz.txt', 'OTAC_094wtp_T068_lorentz.txt'])\n"
     ]
    }
   ],
   "source": [
    "dict_of_df = {}\n",
    "i=0\n",
    "for file in available_txt_files:\n",
    "    dict_of_df[available_txt_files[i].name] = OriginReader(available_txt_files[i]).xc_dataframe\n",
    "    i += 1\n",
    "print(dict_of_df.keys())"
   ]
  },
  {
   "cell_type": "markdown",
   "id": "b9e43253-4806-4f89-94fc-3ace6754d612",
   "metadata": {},
   "source": [
    "Calculate the scattering vectors for calibration from literature lattice plane distances (given in Angstrom)."
   ]
  },
  {
   "cell_type": "code",
   "execution_count": 43,
   "id": "21c698fa-19cf-47b6-81de-2f2cef48c5e2",
   "metadata": {},
   "outputs": [
    {
     "name": "stdout",
     "output_type": "stream",
     "text": [
      "[1.1968372019465192, 2.3936744043489915, 3.590511605155628]\n"
     ]
    }
   ],
   "source": [
    "prepare_standard = PrepareStandard(SAXSStandards.CHOLESTERYL_PALMITATE)\n",
    "q_cholpal_literature = prepare_standard.q_std_lit\n",
    "print(q_cholpal_literature)"
   ]
  },
  {
   "cell_type": "markdown",
   "id": "5c9fdac3-aada-417c-81b7-bb269290c256",
   "metadata": {},
   "source": [
    "Calibrate the peak centers of a measurement (element from `available_txt_files`) with the calibration line. Then calculate the lattice plane ratio from `q_corrected`:"
   ]
  },
  {
   "cell_type": "code",
   "execution_count": 44,
   "id": "84c66955-9724-491d-9bec-0fdee784386d",
   "metadata": {},
   "outputs": [
    {
     "name": "stdout",
     "output_type": "stream",
     "text": [
      "(1.0179868569279822, 0.008622816851908443)\n"
     ]
    }
   ],
   "source": [
    "slope_and_intercept = prepare_standard.calculate_linear_regression(\n",
    "    q_std_meas=dict_of_df[available_txt_files[0].name][\"value\"].tolist()\n",
    ")\n",
    "print(slope_and_intercept)"
   ]
  },
  {
   "cell_type": "code",
   "execution_count": 45,
   "id": "1b4f9b30-09c6-4b05-bfd5-384a8de0a9d4",
   "metadata": {},
   "outputs": [
    {
     "name": "stdout",
     "output_type": "stream",
     "text": [
      "[1.1965320399383095, 2.394285195931204, 3.590205975581628]\n"
     ]
    }
   ],
   "source": [
    "llc_analyzer = LLCAnalyzer()\n",
    "llc_analyzer.calibrate_data(\n",
    "    slope=slope_and_intercept[0],\n",
    "    q_meas=dict_of_df[available_txt_files[0].name][\"value\"].tolist(),\n",
    "    intercept=slope_and_intercept[1]\n",
    ")\n",
    "q_corrected = llc_analyzer.q_corr\n",
    "print(q_corrected)"
   ]
  },
  {
   "cell_type": "markdown",
   "id": "18302d51-16af-45b8-a971-522222ac86c6",
   "metadata": {},
   "source": [
    "Add corrected $q$ values to the AnIML document:"
   ]
  },
  {
   "cell_type": "code",
   "execution_count": 46,
   "id": "d13c917b-5e71-48cc-a3bf-a9a2d6d8cb88",
   "metadata": {},
   "outputs": [],
   "source": [
    "subcategory = Category(name=\"q_corrected\")"
   ]
  },
  {
   "cell_type": "code",
   "execution_count": 47,
   "id": "3481476d-422e-4d6c-a45c-028bd305eb2c",
   "metadata": {},
   "outputs": [],
   "source": [
    "for i, q in enumerate(q_corrected):\n",
    "    new_parameter = Parameter(\n",
    "        name=f\"q_corrected of peak {i+1}\",\n",
    "        parameter_type=infer_type(q),\n",
    "        value=q\n",
    "    )\n",
    "    subcategory.add_content(new_parameter)"
   ]
  },
  {
   "cell_type": "code",
   "execution_count": 48,
   "id": "8689ceb1-32f6-4528-afcc-b5c3e1188cf7",
   "metadata": {},
   "outputs": [],
   "source": [
    "new_category.add_content(subcategory)"
   ]
  },
  {
   "cell_type": "markdown",
   "id": "1e1cf295-51fc-485d-9ecd-a3d6c88cb528",
   "metadata": {},
   "source": [
    "Calculate lattice plance distances $d$ and their ratios from the corrected $q$ values:"
   ]
  },
  {
   "cell_type": "code",
   "execution_count": 49,
   "id": "167cff10-2f61-4009-b002-a886314da73a",
   "metadata": {},
   "outputs": [
    {
     "name": "stdout",
     "output_type": "stream",
     "text": [
      "[5.251163443566069, 2.624242641543745, 1.7500904822491932]\n",
      "[0.4997449936088106, 0.33327671116264196]\n"
     ]
    }
   ],
   "source": [
    "llc_analyzer.calculate_lattice_ratio()\n",
    "d_measured = llc_analyzer.d_measured\n",
    "print(d_measured)\n",
    "d_ratio = llc_analyzer.d_ratio\n",
    "print(d_ratio)"
   ]
  },
  {
   "cell_type": "markdown",
   "id": "5c201a27-f3bf-48a8-b54b-994334dfda01",
   "metadata": {},
   "source": [
    "Add the measured $d$ values to the AnIML document:"
   ]
  },
  {
   "cell_type": "code",
   "execution_count": 50,
   "id": "99b1d492-9418-4953-969c-015d0eaa0688",
   "metadata": {},
   "outputs": [],
   "source": [
    "subcategory = Category(name=\"d_measured\")"
   ]
  },
  {
   "cell_type": "code",
   "execution_count": 51,
   "id": "76bc6e21-92ca-430f-ba0d-bcf6d7f513d3",
   "metadata": {},
   "outputs": [],
   "source": [
    "for i, d in enumerate(d_measured):\n",
    "    new_parameter = Parameter(\n",
    "        name=f\"d_measured of peak {i+1}\",\n",
    "        parameter_type=infer_type(d),\n",
    "        value=d\n",
    "    )\n",
    "    subcategory.add_content(new_parameter)"
   ]
  },
  {
   "cell_type": "code",
   "execution_count": 52,
   "id": "8e173b35-ca1d-4f9f-baf9-15fe738a68a2",
   "metadata": {},
   "outputs": [],
   "source": [
    "new_category.add_content(subcategory)"
   ]
  },
  {
   "cell_type": "markdown",
   "id": "9ad0036b-e4aa-4f72-ad05-02cf29318096",
   "metadata": {},
   "source": [
    "To determine the lyotropic liquid crystalline phase at hand, calculate the _d_ ratios. With the _d_ ratio(s), the phase and respective lattice parameter _a_ are determined:"
   ]
  },
  {
   "cell_type": "markdown",
   "id": "04a9a425-9fdb-45ec-8f9a-6d120e887d32",
   "metadata": {},
   "source": [
    "Add `d_ratio` to the AnIML document:"
   ]
  },
  {
   "cell_type": "code",
   "execution_count": 53,
   "id": "ea3329f1-af44-4efb-b377-459d465199b8",
   "metadata": {},
   "outputs": [],
   "source": [
    "subcategory = Category(name=\"d_ratio\")"
   ]
  },
  {
   "cell_type": "code",
   "execution_count": 54,
   "id": "c300ab1f-f1a3-4534-8354-a53694d8bfb6",
   "metadata": {},
   "outputs": [],
   "source": [
    "for i, d in enumerate(d_ratio):\n",
    "    new_parameter = Parameter(\n",
    "        name=f\"d_ratio of peaks {i+2} and 1\",\n",
    "        parameter_type=infer_type(d),\n",
    "        value=d\n",
    "    )\n",
    "    subcategory.add_content(new_parameter)"
   ]
  },
  {
   "cell_type": "code",
   "execution_count": 55,
   "id": "fe1fc2dd-ba9b-4d54-b69b-708f7b459404",
   "metadata": {},
   "outputs": [],
   "source": [
    "new_category.add_content(subcategory)"
   ]
  },
  {
   "cell_type": "markdown",
   "id": "c7c64267-8085-4cb9-ad0b-41a908530092",
   "metadata": {},
   "source": [
    "Determine the LLC phase from the lattice plane ratio and calculate the respective lattice parameter $a$:"
   ]
  },
  {
   "cell_type": "code",
   "execution_count": 56,
   "id": "0bbb0a85-0a5b-4122-b601-05df7e0b8753",
   "metadata": {},
   "outputs": [
    {
     "name": "stdout",
     "output_type": "stream",
     "text": [
      "Lamellar LLC Phase\n"
     ]
    }
   ],
   "source": [
    "phase = llc_analyzer.determine_phase()\n",
    "print(phase)"
   ]
  },
  {
   "cell_type": "code",
   "execution_count": 57,
   "id": "b78b1c8d-2f0f-4930-845c-3b9e8a0cb2f9",
   "metadata": {},
   "outputs": [
    {
     "name": "stdout",
     "output_type": "stream",
     "text": [
      "{'phase': 'La', 'lattice_parameter': 5.251163443566069}\n"
     ]
    }
   ],
   "source": [
    "phase.calculate_lattice_parameters(d_meas=d_measured)\n",
    "phase_information = phase.phase_information\n",
    "print(phase_information)"
   ]
  },
  {
   "cell_type": "markdown",
   "id": "b2e80126-b2a8-4cbc-b033-8273e352d03d",
   "metadata": {},
   "source": [
    "Add the phase information to the AnIML document:"
   ]
  },
  {
   "cell_type": "code",
   "execution_count": 58,
   "id": "ae1fc916-abf8-4777-8588-3eab11e50c87",
   "metadata": {},
   "outputs": [],
   "source": [
    "subcategory = Category(name=\"phase information\")"
   ]
  },
  {
   "cell_type": "code",
   "execution_count": 59,
   "id": "fb737589-992f-4955-acdf-c2d7dd4fecb5",
   "metadata": {},
   "outputs": [],
   "source": [
    "new_parameter = Parameter(\n",
    "    name=f\"phase\",\n",
    "    parameter_type=infer_type(phase_information[\"phase\"]),\n",
    "    value=phase_information[\"phase\"]\n",
    ")\n",
    "subcategory.add_content(new_parameter)"
   ]
  },
  {
   "cell_type": "code",
   "execution_count": 60,
   "id": "8f6f35ce-a3c6-4221-a2b9-d2a254f4cae2",
   "metadata": {},
   "outputs": [],
   "source": [
    "new_parameter = Parameter(\n",
    "    name=f\"lattice parameter\",\n",
    "    parameter_type=infer_type(phase_information[\"lattice_parameter\"]),\n",
    "    value=phase_information[\"lattice_parameter\"]\n",
    ")\n",
    "subcategory.add_content(new_parameter)"
   ]
  },
  {
   "cell_type": "code",
   "execution_count": 61,
   "id": "a7e44233-4a5f-400e-8a88-413b2d7497ab",
   "metadata": {},
   "outputs": [],
   "source": [
    "new_category.add_content(subcategory)"
   ]
  },
  {
   "cell_type": "markdown",
   "id": "b677394f-a5ec-4b87-bb14-5e925186fa2c",
   "metadata": {},
   "source": [
    "If the phase is not cubic, add everything to the existing AnIML document and serialize it (else, skip to Cubic phase specification):"
   ]
  },
  {
   "cell_type": "code",
   "execution_count": 62,
   "id": "90a5cef5-4bb4-494d-97e8-a9e83d865e4c",
   "metadata": {},
   "outputs": [],
   "source": [
    "experiment_step.add_result(new_category)"
   ]
  },
  {
   "cell_type": "code",
   "execution_count": 63,
   "id": "9942bcb8-ef85-4080-841a-19cd66ff5551",
   "metadata": {},
   "outputs": [],
   "source": [
    "xml_string = animl_doc.toXML()"
   ]
  },
  {
   "cell_type": "code",
   "execution_count": 64,
   "id": "cd14e652-6405-471a-91c3-47d54ca11296",
   "metadata": {},
   "outputs": [
    {
     "name": "stdout",
     "output_type": "stream",
     "text": [
      "Successfully created AnIML document.\n"
     ]
    }
   ],
   "source": [
    "with path_to_AnIML_file.open(\"w\") as f:\n",
    "    f.write(xml_string)\n",
    "del animl_doc, xml_string\n",
    "print(f\"Successfully created AnIML document.\")"
   ]
  },
  {
   "cell_type": "markdown",
   "id": "09fe190d-4bef-4e8f-a6b4-f4404c0b8095",
   "metadata": {},
   "source": [
    "---\n",
    "\n",
    "#### **Cubic phase specification** <a class=\"anchor\" name=\"phases\"></a>\n",
    "\n",
    "As the multiple scattering maxima of the cubic LLC phase can be assigned to various Miller indices, different space groups are possible. This section enables checking for the best fit by plotting experimentally determined values for $d^{-1}$ vs. $\\sqrt{h^2+k^2+l^2}$."
   ]
  },
  {
   "cell_type": "code",
   "execution_count": 65,
   "id": "22e51af2-d5ab-41d6-aecf-f9f73a5e2883",
   "metadata": {},
   "outputs": [
    {
     "ename": "AttributeError",
     "evalue": "'LamellarPhase' object has no attribute 'calculate_sqrt_miller'",
     "output_type": "error",
     "traceback": [
      "\u001b[0;31m---------------------------------------------------------------------------\u001b[0m",
      "\u001b[0;31mAttributeError\u001b[0m                            Traceback (most recent call last)",
      "\u001b[1;32m/mnt/c/Users/rscho/Documents/GitHub/SAS-workflows/workflows/Giess_2022/M3-2_Analysis.ipynb Cell 56\u001b[0m in \u001b[0;36m<cell line: 12>\u001b[0;34m()\u001b[0m\n\u001b[1;32m      <a href='vscode-notebook-cell://wsl%2Bubuntu-22.04/mnt/c/Users/rscho/Documents/GitHub/SAS-workflows/workflows/Giess_2022/M3-2_Analysis.ipynb#Y233sdnNjb2RlLXJlbW90ZQ%3D%3D?line=8'>9</a>\u001b[0m peak_centers \u001b[39m=\u001b[39m data[data[\u001b[39m\"\u001b[39m\u001b[39mkey\u001b[39m\u001b[39m\"\u001b[39m] \u001b[39m==\u001b[39m \u001b[39m\"\u001b[39m\u001b[39mxc\u001b[39m\u001b[39m\"\u001b[39m]\n\u001b[1;32m     <a href='vscode-notebook-cell://wsl%2Bubuntu-22.04/mnt/c/Users/rscho/Documents/GitHub/SAS-workflows/workflows/Giess_2022/M3-2_Analysis.ipynb#Y233sdnNjb2RlLXJlbW90ZQ%3D%3D?line=9'>10</a>\u001b[0m scattering_vector \u001b[39m=\u001b[39m peak_centers[\u001b[39m\"\u001b[39m\u001b[39mvalue\u001b[39m\u001b[39m\"\u001b[39m]\u001b[39m.\u001b[39mvalues\u001b[39m.\u001b[39mtolist()\n\u001b[0;32m---> <a href='vscode-notebook-cell://wsl%2Bubuntu-22.04/mnt/c/Users/rscho/Documents/GitHub/SAS-workflows/workflows/Giess_2022/M3-2_Analysis.ipynb#Y233sdnNjb2RlLXJlbW90ZQ%3D%3D?line=11'>12</a>\u001b[0m phase\u001b[39m.\u001b[39;49mcalculate_sqrt_miller()\n\u001b[1;32m     <a href='vscode-notebook-cell://wsl%2Bubuntu-22.04/mnt/c/Users/rscho/Documents/GitHub/SAS-workflows/workflows/Giess_2022/M3-2_Analysis.ipynb#Y233sdnNjb2RlLXJlbW90ZQ%3D%3D?line=12'>13</a>\u001b[0m x \u001b[39m=\u001b[39m phase\u001b[39m.\u001b[39msqrt_miller\n\u001b[1;32m     <a href='vscode-notebook-cell://wsl%2Bubuntu-22.04/mnt/c/Users/rscho/Documents/GitHub/SAS-workflows/workflows/Giess_2022/M3-2_Analysis.ipynb#Y233sdnNjb2RlLXJlbW90ZQ%3D%3D?line=13'>14</a>\u001b[0m phase\u001b[39m.\u001b[39mcalculate_d_reciprocal(peak_center\u001b[39m=\u001b[39mscattering_vector)\n",
      "\u001b[0;31mAttributeError\u001b[0m: 'LamellarPhase' object has no attribute 'calculate_sqrt_miller'"
     ]
    }
   ],
   "source": [
    "data = pd.read_table(path_to_datasets / \"raw/OTAC_measurement_data/Lorentzian_fitting_data/OTAC_094wtp_T050_lorentz.txt\",\n",
    "                     delimiter=\"\\t\",\n",
    "                     usecols=(1,2),\n",
    "                     names=(\"key\", \"value\"),\n",
    "                     header=1,\n",
    "                     engine=\"python\"\n",
    "                    )\n",
    "\n",
    "peak_centers = data[data[\"key\"] == \"xc\"]\n",
    "scattering_vector = peak_centers[\"value\"].values.tolist()\n",
    "\n",
    "phase.calculate_sqrt_miller()\n",
    "x = phase.sqrt_miller\n",
    "phase.calculate_d_reciprocal(peak_center=scattering_vector)\n",
    "y = phase.d_reciprocal\n",
    "print(x)\n",
    "print(y)"
   ]
  },
  {
   "cell_type": "markdown",
   "id": "331eb01e-3b87-4d7d-b2f7-de1e14957c1a",
   "metadata": {},
   "source": [
    "The calculated values for $d^{-1}$ plotted against the respective $\\sqrt{h^2+k^2+l^2}$ and fitted by linear regression. The $R^2$-value is calculated for assessment of the fit quality:"
   ]
  },
  {
   "cell_type": "code",
   "execution_count": null,
   "id": "140df793-6f64-40cc-9a2e-96cf7c14ae82",
   "metadata": {},
   "outputs": [],
   "source": [
    "coef = np.polyfit(x, y, 1)\n",
    "fit = np.poly1d(coef)\n",
    "r2 = r2_score(y, fit(x))"
   ]
  },
  {
   "cell_type": "markdown",
   "id": "44b17ac5-2437-4bfc-affa-7566ee92f478",
   "metadata": {},
   "source": [
    "For visualization, the fit is plotted:"
   ]
  },
  {
   "cell_type": "code",
   "execution_count": null,
   "id": "5ad67955-c143-4622-9514-64648a61d122",
   "metadata": {},
   "outputs": [],
   "source": [
    "fig = plt.figure(dpi=600)\n",
    "ax = fig.add_subplot()\n",
    "ax.set(xlabel=\"$\\sqrt{h^2+k^2+l^2}$\",\n",
    "       ylabel=\"$d^{-1}$ / nm\"\n",
    "       )\n",
    "ax.plot(x, y, marker=\".\", linestyle=\"None\", color=\"black\")\n",
    "ax.plot(x, fit(x), marker=\"None\", linestyle=\":\", color=\"black\")\n",
    "\n",
    "for i, label in enumerate(h):\n",
    "    ax.annotate((\"(\"+str(h[i])+\" \"+str(k[i])+\" \"+str(l[i])+\")\"), (x[i], y[i]))\n",
    "    \n",
    "ax.text(3.0, 0.39, f\"$y$ = {str(fit)}\")\n",
    "ax.text(3.0, 0.35, f\"$R^2$ = {str(round(r2, 4))}\")\n",
    "\n",
    "plt.show()"
   ]
  },
  {
   "cell_type": "markdown",
   "id": "f6cd215c-66c0-4902-8ab4-c92cd41408aa",
   "metadata": {},
   "source": [
    "Optionally, add exact cubic phase to the AnIML document and serialize it:"
   ]
  },
  {
   "cell_type": "code",
   "execution_count": null,
   "id": "f8c316a9-10a5-4e99-ba99-3e005ff14e0a",
   "metadata": {},
   "outputs": [],
   "source": [
    "exact_cubic_phase = LLCPhases.INDETERMINATE\n",
    "phase.exact_phase = exact_cubic_phase"
   ]
  },
  {
   "cell_type": "code",
   "execution_count": null,
   "id": "16da82d0-d673-4ab5-81b9-da3214e0774c",
   "metadata": {},
   "outputs": [],
   "source": [
    "for category in experiment_step.results[1].content:\n",
    "    if category.name == \"phase information\":\n",
    "        new_parameter = Parameter(\n",
    "            name=f\"exact cubic phase\",\n",
    "            parameter_type=infer_type(phase.exact_phase.value),\n",
    "            value=phase.exact_phase.value\n",
    "        )\n",
    "        category.add_content(new_parameter)\n",
    "    else:\n",
    "        pass"
   ]
  },
  {
   "cell_type": "code",
   "execution_count": null,
   "id": "16e5c6d7-fc1c-44d0-9a78-744dc6dbbbf4",
   "metadata": {},
   "outputs": [],
   "source": [
    "xml_string = animl_doc.toXML()"
   ]
  },
  {
   "cell_type": "code",
   "execution_count": null,
   "id": "6678df78-b274-460c-b07f-ea3675f4c4e6",
   "metadata": {},
   "outputs": [],
   "source": [
    "with path_to_AnIML_file.open(\"w\") as f:\n",
    "    f.write(xml_string)\n",
    "del animl_doc, xml_string\n",
    "print(f\"Successfully created AnIML document.\")"
   ]
  },
  {
   "cell_type": "markdown",
   "id": "ab8937e6-6432-4d48-81ee-2fff110f463c",
   "metadata": {},
   "source": [
    "---\n",
    "\n",
    "### **Disclosure** <a class=\"anchor\" name=\"disclosure\"></a>\n",
    "\n",
    "**Contributions**\n",
    "\n",
    "If you wish to contribute to the FAIR Chemistry project, find us on [GitHub](https://github.com/FAIRChemistry)!\n",
    "\n",
    "**MIT License**\n",
    "\n",
    "Copyright (c) 2022 FAIR Chemistry\n",
    "\n",
    "Permission is hereby granted, free of charge, to any person obtaining a copy\n",
    "of this software and associated documentation files (the \"Software\"), to deal\n",
    "in the Software without restriction, including without limitation the rights\n",
    "to use, copy, modify, merge, publish, distribute, sublicense, and/or sell\n",
    "copies of the Software, and to permit persons to whom the Software is\n",
    "furnished to do so, subject to the following conditions:\n",
    "\n",
    "The above copyright notice and this permission notice shall be included in all\n",
    "copies or substantial portions of the Software.\n",
    "\n",
    "THE SOFTWARE IS PROVIDED \"AS IS\", WITHOUT WARRANTY OF ANY KIND, EXPRESS OR\n",
    "IMPLIED, INCLUDING BUT NOT LIMITED TO THE WARRANTIES OF MERCHANTABILITY,\n",
    "FITNESS FOR A PARTICULAR PURPOSE AND NONINFRINGEMENT. IN NO EVENT SHALL THE\n",
    "AUTHORS OR COPYRIGHT HOLDERS BE LIABLE FOR ANY CLAIM, DAMAGES OR OTHER\n",
    "LIABILITY, WHETHER IN AN ACTION OF CONTRACT, TORT OR OTHERWISE, ARISING FROM,\n",
    "OUT OF OR IN CONNECTION WITH THE SOFTWARE OR THE USE OR OTHER DEALINGS IN THE\n",
    "SOFTWARE."
   ]
  },
  {
   "cell_type": "code",
   "execution_count": null,
   "id": "b003ffef-a092-4f28-a1eb-ac35082c9464",
   "metadata": {},
   "outputs": [],
   "source": []
  }
 ],
 "metadata": {
  "kernelspec": {
   "display_name": "b07",
   "language": "python",
   "name": "python3"
  },
  "language_info": {
   "codemirror_mode": {
    "name": "ipython",
    "version": 3
   },
   "file_extension": ".py",
   "mimetype": "text/x-python",
   "name": "python",
   "nbconvert_exporter": "python",
   "pygments_lexer": "ipython3",
   "version": "3.10.4"
  },
  "vscode": {
   "interpreter": {
    "hash": "9f62ab2d43dc75e3c3b007469adeb0f7488873df876b9b71dd3b119f0280ba41"
   }
  }
 },
 "nbformat": 4,
 "nbformat_minor": 5
}
