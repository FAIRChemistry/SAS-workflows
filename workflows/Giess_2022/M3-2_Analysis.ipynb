{
 "cells": [
  {
   "cell_type": "markdown",
   "id": "d482f382-9096-427e-ac26-6d12b651a6e8",
   "metadata": {},
   "source": [
    "# FAIR and scalable management of small-angle X-ray scattering data  \n",
    "## Module 3: Data analysis and visualization\n",
    "### 3.2: Analysis\n",
    "\n",
    "> Authors: Torsten Giess, Selina Itzigehl, Jan Range, Johanna R. Bruckner, Juergen Pleiss  \n",
    "> Last modified: 10.05.2022\n",
    "\n",
    "---"
   ]
  },
  {
   "cell_type": "markdown",
   "id": "82c25029-b2d9-42cf-b9fa-cb9b161eed89",
   "metadata": {},
   "source": [
    "### **Abstract** <a class=\"anchor\" name=\"abstract\"></a>\n",
    "\n",
    "Using established packages numpy (version 1.22.1) and pandas (version 1.4.1), as well as packages from the Python 3 standard libary, this notebook provides the means to determine the lyotropic liquid crystalline phase and lattice parameter _a_ from the peak centers of a diffractogram by calibration of scattering vectors and calculation of lattice plane distances. \n",
    "\n",
    "---"
   ]
  },
  {
   "cell_type": "markdown",
   "id": "08bca00d-8a2b-4903-a156-274f5680737e",
   "metadata": {},
   "source": [
    "### **Table of Contents** <a class=\"anchor\" name=\"table_of_contents\"></a>\n",
    "\n",
    "- [Abstract](#abstract)\n",
    "- [Workflow](#workflow)\n",
    "    - [User guide](#user_guide)\n",
    "    - [Preparation](#preparation)\n",
    "    - [Analysis with Python](#analysis)\n",
    "- [Disclosure](#disclosure)\n",
    "\n",
    "---"
   ]
  },
  {
   "cell_type": "markdown",
   "id": "d3a14dc3-3457-4d4c-9827-bde70a38926e",
   "metadata": {},
   "source": [
    "### **Workflow** <a class=\"anchor\" name=\"workflow\"></a>\n",
    "\n",
    "Following is the workflow for Module 3.2: Analysis of FAIR and scalable management of small-angle X-ray scattering data."
   ]
  },
  {
   "cell_type": "markdown",
   "id": "4ac5ea60-fb8b-4d11-9d42-981e4d7c1e9e",
   "metadata": {},
   "source": [
    "#### **User guide** <a class=\"anchor\" name=\"user_guide\"></a>\n",
    "\n",
    "This notebook can be used to determine the lyotropic liquid crystalline phase as well as the corresponding lattice parameter _a_ from the peak centers obtained from previous evaluation of diffractograms by providing calibration and calculation of required values."
   ]
  },
  {
   "cell_type": "markdown",
   "id": "778d2b3b-b837-47dc-bd46-1e718ae867ed",
   "metadata": {},
   "source": [
    "#### **Preparation** <a class=\"anchor\" name=\"preparation\"></a>\n",
    "\n",
    "This section contains the necessary preparations for using this module. Code cells in this section are required regardless of which functionality of this notebook is used. First, the required packages from the [Python 3 standard library](https://docs.python.org/3/library/), the Python Package Index ([PyPI](https://pypi.org/)), and *ad hoc* modules of this work are imported. Then, both current time and path are retrieved and stored in the desired formats."
   ]
  },
  {
   "cell_type": "code",
   "execution_count": 2,
   "id": "3030bb86-729f-4729-8ff7-e412b0f6e849",
   "metadata": {},
   "outputs": [
    {
     "name": "stdout",
     "output_type": "stream",
     "text": [
      "Importing standard library packages.\n",
      "Done.\n"
     ]
    }
   ],
   "source": [
    "print(\"Importing standard library packages.\")\n",
    "from datetime import date\n",
    "from pathlib import Path\n",
    "from typing import List\n",
    "print (\"Done.\")"
   ]
  },
  {
   "cell_type": "code",
   "execution_count": 3,
   "id": "40310912-809a-4a64-8440-19e1dcad5eeb",
   "metadata": {},
   "outputs": [
    {
     "name": "stdout",
     "output_type": "stream",
     "text": [
      "Importing PyPI packages.\n",
      "Done.\n"
     ]
    }
   ],
   "source": [
    "print(\"Importing PyPI packages.\")\n",
    "import numpy as np\n",
    "import matplotlib.pyplot as plt\n",
    "import pandas as pd\n",
    "from pyaniml import AnIMLDocument, Category, Parameter\n",
    "from sklearn.metrics import r2_score\n",
    "print (\"Done.\")"
   ]
  },
  {
   "cell_type": "code",
   "execution_count": 4,
   "id": "caa4fd32-16a6-4312-85ee-c8f97b522e51",
   "metadata": {},
   "outputs": [
    {
     "name": "stdout",
     "output_type": "stream",
     "text": [
      "Importing local packages.\n",
      "Initializing logger for 'modules.originreader'.\n",
      "Loading logger configuration from 'logcfg.json'.\n",
      "Done.\n",
      "All done.\n"
     ]
    }
   ],
   "source": [
    "print(\"Importing local packages.\")\n",
    "from modules.infer_type import infer_type\n",
    "from modules.originreader import LorentzianReader\n",
    "print(\"All done.\")"
   ]
  },
  {
   "cell_type": "code",
   "execution_count": 5,
   "id": "b6867753-1a79-4f4b-8c3f-b053ce4ab7b3",
   "metadata": {},
   "outputs": [],
   "source": [
    "date_suffix = str(date.today()).replace(\"-\", \"\")[2:]"
   ]
  },
  {
   "cell_type": "code",
   "execution_count": 6,
   "id": "18d69ade-5b4c-45e2-9e6b-9247f4d61b7d",
   "metadata": {},
   "outputs": [],
   "source": [
    "cwd = Path.cwd()\n",
    "path_to_datasets = cwd / \"./datasets/\""
   ]
  },
  {
   "cell_type": "code",
   "execution_count": 13,
   "id": "8698d225-64b8-4206-b2a4-039fa85f7edf",
   "metadata": {},
   "outputs": [],
   "source": [
    "def calculate_scattering_vector(d: float) -> float:\n",
    "    q = (2 * np.pi) / (d / 10)\n",
    "    return q\n",
    "\n",
    "def calculate_linear_regression(m: float, x: float, b: float) -> float:\n",
    "    y = m * x + b\n",
    "    return y\n",
    "\n",
    "def calculate_lattice_plane(q: float) -> float:\n",
    "    d = (2 * np.pi) / q\n",
    "    return d\n",
    "\n",
    "def calculate_lattice_ratio(d: float, d_0: float) -> float:\n",
    "    d_ratio = d / d_0\n",
    "    return d_ratio\n",
    "\n",
    "def determine_phase(d_ratios: list) -> bool:\n",
    "    H1 = [\n",
    "        (1 / np.sqrt(3)),\n",
    "        (1 / np.sqrt(4)),\n",
    "        (1 / np.sqrt(7)),\n",
    "        (1 / np.sqrt(9)),\n",
    "    ]\n",
    "    V1 = [\n",
    "        (1 / np.sqrt(2)),\n",
    "        (1 / np.sqrt(3)),\n",
    "        (1 / np.sqrt(4)),\n",
    "        (1 / np.sqrt(5)),\n",
    "    ]\n",
    "    La = [(1 / 2), (1 / 3), (1 / 4), (1 / 5)]\n",
    "    \n",
    "    for i, j in enumerate(d_ratios):\n",
    "        if (abs(d_ratios[i] - H1[i])) < 0.03:\n",
    "            return \"hexagonal\"\n",
    "        elif (abs(d_ratios[i] - V1[i])) < 0.03:\n",
    "            return \"cubic\"\n",
    "        elif (abs(d_ratios[i] - La[i])) < 0.03:\n",
    "            return \"lamellar\"\n",
    "        else:\n",
    "            return \"indeterminate\"\n",
    "\n",
    "def calculate_a_H1(d: float, h: int, k: int) -> float:\n",
    "    a_H1 = d * np.sqrt((4/3)*((h**2 + k**2 + (h * k))))\n",
    "    return a_H1\n",
    "\n",
    "\n",
    "def calculate_a_V1(d: float, h: int, k: int, l: int) -> float:\n",
    "    a_V1 = d * (np.sqrt((h ** 2) + (k ** 2) + (l ** 2)))\n",
    "    return a_V1\n",
    "\n",
    "def d_reciprocal(peak_center):\n",
    "    d_reciprocal = ((peak_center)/(2*np.pi))\n",
    "    return d_reciprocal\n",
    "\n",
    "def sqrt_miller(h, k, l):\n",
    "    sq_root = np.sqrt(h**2 + k**2 + l**2)\n",
    "    return sq_root"
   ]
  },
  {
   "cell_type": "markdown",
   "id": "1feeace0-25c6-4e2e-8974-bfe4e76ba88b",
   "metadata": {
    "tags": []
   },
   "source": [
    "---\n",
    "\n",
    "#### **Analysis with Python** <a class=\"anchor\" name=\"analysis\"></a>\n",
    "\n",
    "Determine the lyotropic liquid crystalline (LLC) phase and calculate the lattice parameter from measured datasets and store the results in the respective AnIML file(s)."
   ]
  },
  {
   "cell_type": "markdown",
   "id": "6cf246b3-c48f-4272-90ba-1dd85ef6ba32",
   "metadata": {},
   "source": [
    "Open AnIML document to later append analysis results from this Notebook."
   ]
  },
  {
   "cell_type": "code",
   "execution_count": null,
   "id": "2558298d-72c0-4371-9120-d974c7a5128a",
   "metadata": {},
   "outputs": [],
   "source": [
    "path_to_AnIML_file = path_to_datasets / f\"processed/fairsaxs_220512.animl\""
   ]
  },
  {
   "cell_type": "code",
   "execution_count": null,
   "id": "30f95ac0-f417-40f5-8883-3d9c49facf0b",
   "metadata": {},
   "outputs": [],
   "source": [
    "with path_to_AnIML_file.open(\"r\") as f:\n",
    "    xml_string = f.read()\n",
    "    animl_doc = AnIMLDocument.fromXMLString(xml_string)"
   ]
  },
  {
   "cell_type": "markdown",
   "id": "d49b37b8-134d-4621-8928-7c90cd2e1d35",
   "metadata": {},
   "source": [
    "Access the Result of the ExperimentStep this analysis belongs to."
   ]
  },
  {
   "cell_type": "code",
   "execution_count": null,
   "id": "b5eee47f-e747-4c75-a50f-178cb7bd55fc",
   "metadata": {},
   "outputs": [],
   "source": [
    "for index, item in enumerate(animl_doc.experiment_step_set.experiment_steps):\n",
    "    print(index, f\"ID: {item.experiment_step_id};    Name: {item.name}\")"
   ]
  },
  {
   "cell_type": "code",
   "execution_count": null,
   "id": "8980961f-1e32-41aa-93e3-1c714daf2b39",
   "metadata": {},
   "outputs": [],
   "source": [
    "experiment_step = animl_doc.experiment_step_set.experiment_steps[60].result"
   ]
  },
  {
   "cell_type": "markdown",
   "id": "9bd67eef-e121-4502-8277-07e409fdd94d",
   "metadata": {},
   "source": [
    "Create the new Category for the analysis results."
   ]
  },
  {
   "cell_type": "code",
   "execution_count": null,
   "id": "da48feb4-6ee2-40d3-97ea-d9697d41a1a3",
   "metadata": {},
   "outputs": [],
   "source": [
    "new_category = Category(name=\"Analyses\")"
   ]
  },
  {
   "cell_type": "markdown",
   "id": "84797c56-3019-4129-80c9-6e2e86224448",
   "metadata": {},
   "source": [
    "Import Lorentzian fit data from Origin TXT output file. For several measurement datasets select the respective folder."
   ]
  },
  {
   "cell_type": "code",
   "execution_count": 8,
   "id": "1827fc6e-3217-4e66-87e3-3337244f737c",
   "metadata": {},
   "outputs": [
    {
     "name": "stdout",
     "output_type": "stream",
     "text": [
      "['CholPal_20220214_lorentz.txt', 'OTAC_070wtp_T025_lorentz.txt', 'OTAC_090wtp_T010_lorentz.txt', 'OTAC_094wtp_T050_lorentz.txt', 'OTAC_094wtp_T068_lorentz.txt']\n"
     ]
    }
   ],
   "source": [
    "available_txt_files = [file for file in (path_to_datasets / \"raw/OTAC_measurement_data/Lorentzian_fitting_data\").glob(\"*.txt\")]\n",
    "print([file.name for file in available_txt_files])"
   ]
  },
  {
   "cell_type": "code",
   "execution_count": 9,
   "id": "db9d216b-dd90-45dd-8bfb-fba84400ca36",
   "metadata": {},
   "outputs": [
    {
     "name": "stdout",
     "output_type": "stream",
     "text": [
      "18:33:03 - modules.originreader - DEBUG: Constructor called, 'LorentzianReader'@0x1607aabd690 initialised.\n",
      "18:33:03 - modules.originreader - DEBUG: Data extracted from 'C:\\Users\\Selina Itzigehl\\Documents\\GitHub\\SAXS-workflow\\notebooks\\datasets\\raw\\OTAC_measurement_data\\Lorentzian_fitting_data\\CholPal_20220214_lorentz.txt'.\n",
      "18:33:03 - modules.originreader - DEBUG: Destructor called, 'LorentzianReader'@0x1607aabd690 deleted.\n",
      "18:33:03 - modules.originreader - DEBUG: Constructor called, 'LorentzianReader'@0x1607aabd690 initialised.\n",
      "18:33:03 - modules.originreader - DEBUG: Data extracted from 'C:\\Users\\Selina Itzigehl\\Documents\\GitHub\\SAXS-workflow\\notebooks\\datasets\\raw\\OTAC_measurement_data\\Lorentzian_fitting_data\\OTAC_070wtp_T025_lorentz.txt'.\n",
      "18:33:03 - modules.originreader - DEBUG: Destructor called, 'LorentzianReader'@0x1607aabd690 deleted.\n",
      "18:33:03 - modules.originreader - DEBUG: Constructor called, 'LorentzianReader'@0x16058fc1570 initialised.\n",
      "18:33:03 - modules.originreader - DEBUG: Data extracted from 'C:\\Users\\Selina Itzigehl\\Documents\\GitHub\\SAXS-workflow\\notebooks\\datasets\\raw\\OTAC_measurement_data\\Lorentzian_fitting_data\\OTAC_090wtp_T010_lorentz.txt'.\n",
      "18:33:03 - modules.originreader - DEBUG: Destructor called, 'LorentzianReader'@0x16058fc1570 deleted.\n",
      "18:33:03 - modules.originreader - DEBUG: Constructor called, 'LorentzianReader'@0x16058fc1570 initialised.\n",
      "18:33:03 - modules.originreader - DEBUG: Data extracted from 'C:\\Users\\Selina Itzigehl\\Documents\\GitHub\\SAXS-workflow\\notebooks\\datasets\\raw\\OTAC_measurement_data\\Lorentzian_fitting_data\\OTAC_094wtp_T050_lorentz.txt'.\n",
      "18:33:03 - modules.originreader - DEBUG: Destructor called, 'LorentzianReader'@0x16058fc1570 deleted.\n",
      "18:33:03 - modules.originreader - DEBUG: Constructor called, 'LorentzianReader'@0x16058fc1570 initialised.\n",
      "18:33:03 - modules.originreader - DEBUG: Data extracted from 'C:\\Users\\Selina Itzigehl\\Documents\\GitHub\\SAXS-workflow\\notebooks\\datasets\\raw\\OTAC_measurement_data\\Lorentzian_fitting_data\\OTAC_094wtp_T068_lorentz.txt'.\n",
      "18:33:03 - modules.originreader - DEBUG: Destructor called, 'LorentzianReader'@0x16058fc1570 deleted.\n",
      "dict_keys(['CholPal_20220214_lorentz.txt', 'OTAC_070wtp_T025_lorentz.txt', 'OTAC_090wtp_T010_lorentz.txt', 'OTAC_094wtp_T050_lorentz.txt', 'OTAC_094wtp_T068_lorentz.txt'])\n"
     ]
    }
   ],
   "source": [
    "dict_of_df = {}\n",
    "i=0\n",
    "for file in available_txt_files:\n",
    "    dict_of_df[available_txt_files[i].name] = LorentzianReader(available_txt_files[i]).get_xc_dataframe()\n",
    "    i += 1\n",
    "print(dict_of_df.keys())"
   ]
  },
  {
   "cell_type": "markdown",
   "id": "b9e43253-4806-4f89-94fc-3ace6754d612",
   "metadata": {},
   "source": [
    "Calculate the scattering vectors for calibration from literature lattice plane distances (given in Angstrom)."
   ]
  },
  {
   "cell_type": "code",
   "execution_count": 19,
   "id": "21c698fa-19cf-47b6-81de-2f2cef48c5e2",
   "metadata": {},
   "outputs": [
    {
     "name": "stdout",
     "output_type": "stream",
     "text": [
      "[1.1968372019465192, 2.3936744043489915, 3.590511605155628]\n"
     ]
    }
   ],
   "source": [
    "d_from_literature = [52.49824535, 26.24912267, 17.49941512]\n",
    "q_cholpal_literature = [calculate_scattering_vector(d) for d in d_from_literature]\n",
    "print(q_cholpal_literature)"
   ]
  },
  {
   "cell_type": "markdown",
   "id": "5c9fdac3-aada-417c-81b7-bb269290c256",
   "metadata": {},
   "source": [
    "Calibrate the peak centers of a measurement (element from `available_txt_files`) with the calibration line. Then calculate the lattice plane ratio from `q_corrected`:"
   ]
  },
  {
   "cell_type": "code",
   "execution_count": 20,
   "id": "84c66955-9724-491d-9bec-0fdee784386d",
   "metadata": {},
   "outputs": [
    {
     "name": "stdout",
     "output_type": "stream",
     "text": [
      "[2.564502778278132, 4.437069241860016]\n"
     ]
    }
   ],
   "source": [
    "slope, intercept = np.polyfit(\n",
    "    x=dict_of_df[available_txt_files[0].name][\"value\"].tolist(),\n",
    "    y=q_cholpal_literature,\n",
    "    deg=1\n",
    ")\n",
    "q_corrected = [calculate_linear_regression(slope, value, intercept) for value in\n",
    "               dict_of_df[available_txt_files[2].name][\"value\"].tolist()]\n",
    "print(q_corrected)"
   ]
  },
  {
   "cell_type": "markdown",
   "id": "18302d51-16af-45b8-a971-522222ac86c6",
   "metadata": {},
   "source": [
    "Add corrected $q$ values to the AnIML document:"
   ]
  },
  {
   "cell_type": "code",
   "execution_count": null,
   "id": "d13c917b-5e71-48cc-a3bf-a9a2d6d8cb88",
   "metadata": {},
   "outputs": [],
   "source": [
    "subcategory = Category(name=\"q_corrected\")"
   ]
  },
  {
   "cell_type": "code",
   "execution_count": null,
   "id": "3481476d-422e-4d6c-a45c-028bd305eb2c",
   "metadata": {},
   "outputs": [],
   "source": [
    "for i, q in enumerate(q_corrected):\n",
    "    new_parameter = Parameter(\n",
    "        name=f\"q_corrected of peak {i+1}\",\n",
    "        parameter_type=infer_type(q),\n",
    "        value=q\n",
    "    )\n",
    "    subcategory.add_content(new_parameter)"
   ]
  },
  {
   "cell_type": "code",
   "execution_count": null,
   "id": "8689ceb1-32f6-4528-afcc-b5c3e1188cf7",
   "metadata": {},
   "outputs": [],
   "source": [
    "new_category.add_content(subcategory)"
   ]
  },
  {
   "cell_type": "markdown",
   "id": "1e1cf295-51fc-485d-9ecd-a3d6c88cb528",
   "metadata": {},
   "source": [
    "Calculate lattice plance distances $d$ from the corrected $q$ values:"
   ]
  },
  {
   "cell_type": "code",
   "execution_count": null,
   "id": "167cff10-2f61-4009-b002-a886314da73a",
   "metadata": {},
   "outputs": [],
   "source": [
    "d_measured = [calculate_lattice_plane(q) for q in q_corrected]\n",
    "print(d_measured)"
   ]
  },
  {
   "cell_type": "markdown",
   "id": "5c201a27-f3bf-48a8-b54b-994334dfda01",
   "metadata": {},
   "source": [
    "Add the measured $d$ values to the AnIML document:"
   ]
  },
  {
   "cell_type": "code",
   "execution_count": null,
   "id": "99b1d492-9418-4953-969c-015d0eaa0688",
   "metadata": {},
   "outputs": [],
   "source": [
    "subcategory = Category(name=\"d_measured\")"
   ]
  },
  {
   "cell_type": "code",
   "execution_count": null,
   "id": "76bc6e21-92ca-430f-ba0d-bcf6d7f513d3",
   "metadata": {},
   "outputs": [],
   "source": [
    "for i, d in enumerate(d_measured):\n",
    "    new_parameter = Parameter(\n",
    "        name=f\"d_measured of peak {i+1}\",\n",
    "        parameter_type=infer_type(d),\n",
    "        value=d\n",
    "    )\n",
    "    subcategory.add_content(new_parameter)"
   ]
  },
  {
   "cell_type": "code",
   "execution_count": null,
   "id": "8e173b35-ca1d-4f9f-baf9-15fe738a68a2",
   "metadata": {},
   "outputs": [],
   "source": [
    "new_category.add_content(subcategory)"
   ]
  },
  {
   "cell_type": "markdown",
   "id": "9ad0036b-e4aa-4f72-ad05-02cf29318096",
   "metadata": {},
   "source": [
    "To determine the lyotropic liquid crystalline phase at hand, calculate the _d_ ratios. With the _d_ ratio(s), the phase and respective lattice parameter _a_ are determined:"
   ]
  },
  {
   "cell_type": "code",
   "execution_count": null,
   "id": "d9a57e11-3776-4b9d-8dd0-3442dc198eb1",
   "metadata": {},
   "outputs": [],
   "source": [
    "d_ratio = [calculate_lattice_ratio(d, d_measured[0]) for d in d_measured[1:]]\n",
    "print(d_ratio)"
   ]
  },
  {
   "cell_type": "markdown",
   "id": "04a9a425-9fdb-45ec-8f9a-6d120e887d32",
   "metadata": {},
   "source": [
    "Add `d_ratio` to the AnIML document:"
   ]
  },
  {
   "cell_type": "code",
   "execution_count": null,
   "id": "ea3329f1-af44-4efb-b377-459d465199b8",
   "metadata": {},
   "outputs": [],
   "source": [
    "subcategory = Category(name=\"d_ratio\")"
   ]
  },
  {
   "cell_type": "code",
   "execution_count": null,
   "id": "c300ab1f-f1a3-4534-8354-a53694d8bfb6",
   "metadata": {},
   "outputs": [],
   "source": [
    "for i, d in enumerate(d_ratio):\n",
    "    new_parameter = Parameter(\n",
    "        name=f\"d_ratio of peaks {i+2} and 1\",\n",
    "        parameter_type=infer_type(d),\n",
    "        value=d\n",
    "    )\n",
    "    subcategory.add_content(new_parameter)"
   ]
  },
  {
   "cell_type": "code",
   "execution_count": null,
   "id": "fe1fc2dd-ba9b-4d54-b69b-708f7b459404",
   "metadata": {},
   "outputs": [],
   "source": [
    "new_category.add_content(subcategory)"
   ]
  },
  {
   "cell_type": "markdown",
   "id": "c7c64267-8085-4cb9-ad0b-41a908530092",
   "metadata": {},
   "source": [
    "Determine the LLC phase from the lattice plane ratio and calculate the respective lattice parameter $a$:"
   ]
  },
  {
   "cell_type": "code",
   "execution_count": null,
   "id": "0bbb0a85-0a5b-4122-b601-05df7e0b8753",
   "metadata": {},
   "outputs": [],
   "source": [
    "phase = determine_phase(d_ratio)\n",
    "if phase == \"hexagonal\":\n",
    "    h = [1, 1, 2, 2, 3]\n",
    "    k = [0, 1, 0, 1, 0]\n",
    "    a_hex = []\n",
    "    for i, j in enumerate(d_measured):\n",
    "        a_i = calculate_a_H1(d_measured[i], h[i], k[i])\n",
    "        a_hex.append(a_i)\n",
    "    phase_information = [phase, (np.mean(a_hex))]\n",
    "\n",
    "elif phase == \"cubic\":\n",
    "    h = [1, 1, 2, 2, 2]\n",
    "    k = [0, 1, 0, 1, 2]\n",
    "    l = [0, 1, 0, 1, 2]\n",
    "    a_cub = []\n",
    "    for i, j in enumerate(d_measured):\n",
    "        a_i = calculate_a_V1(d_measured[i], h[i], k[i], l[i])\n",
    "        a_cub.append(a_i)\n",
    "    phase_information = [phase, (np.mean(a_cub))]\n",
    "\n",
    "elif phase == \"lamellar\":\n",
    "    phase_information = [phase, d_measured[0]]\n",
    "\n",
    "else:\n",
    "    phase_information = [\"indeterminate\", \"-\"]"
   ]
  },
  {
   "cell_type": "code",
   "execution_count": null,
   "id": "06fc3d37-3597-46ef-ac12-72d72dc79a99",
   "metadata": {},
   "outputs": [],
   "source": [
    "print(phase_information)"
   ]
  },
  {
   "cell_type": "markdown",
   "id": "b2e80126-b2a8-4cbc-b033-8273e352d03d",
   "metadata": {},
   "source": [
    "Add the phase information to the AnIML document:"
   ]
  },
  {
   "cell_type": "code",
   "execution_count": null,
   "id": "ae1fc916-abf8-4777-8588-3eab11e50c87",
   "metadata": {},
   "outputs": [],
   "source": [
    "subcategory = Category(name=\"phase information\")"
   ]
  },
  {
   "cell_type": "code",
   "execution_count": null,
   "id": "fb737589-992f-4955-acdf-c2d7dd4fecb5",
   "metadata": {},
   "outputs": [],
   "source": [
    "new_parameter = Parameter(\n",
    "    name=f\"phase\",\n",
    "    parameter_type=infer_type(phase_information[0]),\n",
    "    value=phase_information[0]\n",
    ")\n",
    "subcategory.add_content(new_parameter)"
   ]
  },
  {
   "cell_type": "code",
   "execution_count": null,
   "id": "8f6f35ce-a3c6-4221-a2b9-d2a254f4cae2",
   "metadata": {},
   "outputs": [],
   "source": [
    "new_parameter = Parameter(\n",
    "    name=f\"lattice parameter\",\n",
    "    parameter_type=infer_type(phase_information[1]),\n",
    "    value=phase_information[1]\n",
    ")\n",
    "subcategory.add_content(new_parameter)"
   ]
  },
  {
   "cell_type": "code",
   "execution_count": null,
   "id": "a7e44233-4a5f-400e-8a88-413b2d7497ab",
   "metadata": {},
   "outputs": [],
   "source": [
    "new_category.add_content(subcategory)"
   ]
  },
  {
   "cell_type": "markdown",
   "id": "b677394f-a5ec-4b87-bb14-5e925186fa2c",
   "metadata": {},
   "source": [
    "If the phase is not cubic, add everything to the existing AnIML document and serialize it (else, skip to Cubic phase specification):"
   ]
  },
  {
   "cell_type": "code",
   "execution_count": null,
   "id": "90a5cef5-4bb4-494d-97e8-a9e83d865e4c",
   "metadata": {},
   "outputs": [],
   "source": [
    "experiment_step.add_result(new_category)"
   ]
  },
  {
   "cell_type": "code",
   "execution_count": null,
   "id": "9942bcb8-ef85-4080-841a-19cd66ff5551",
   "metadata": {},
   "outputs": [],
   "source": [
    "xml_string = animl_doc.toXML()"
   ]
  },
  {
   "cell_type": "code",
   "execution_count": null,
   "id": "cd14e652-6405-471a-91c3-47d54ca11296",
   "metadata": {},
   "outputs": [],
   "source": [
    "with path_to_AnIML_file.open(\"w\") as f:\n",
    "    f.write(xml_string)\n",
    "del animl_doc, xml_string\n",
    "print(f\"Successfully created AnIML document.\")"
   ]
  },
  {
   "cell_type": "markdown",
   "id": "09fe190d-4bef-4e8f-a6b4-f4404c0b8095",
   "metadata": {},
   "source": [
    "---\n",
    "\n",
    "#### **Cubic phase specification** <a class=\"anchor\" name=\"phases\"></a>\n",
    "\n",
    "As the multiple scattering maxima of the cubic LLC phase can be assigned to various Miller indices, different space groups are possible. This section enables checking for the best fit by plotting experimentally determined values for $d^{-1}$ vs. $\\sqrt{h^2+k^2+l^2}$.\n",
    "\n",
    "First, a measurement file is selected and the assigned Miller indices are stored in the lists `h`, `k` and `l`:"
   ]
  },
  {
   "cell_type": "code",
   "execution_count": null,
   "id": "d4eaee7a-3027-42ab-8517-fda280383527",
   "metadata": {},
   "outputs": [],
   "source": [
    "h = [2, 2, 3]\n",
    "k = [1, 2, 1]\n",
    "l = [1, 0, 0]"
   ]
  },
  {
   "cell_type": "code",
   "execution_count": null,
   "id": "59cb1d4d-343f-4699-a0a6-fdc5f8d2809d",
   "metadata": {},
   "outputs": [],
   "source": [
    "data = pd.read_table(path_to_datasets / \"raw/OTAC_measurement_data/Lorentzian_fitting_data/OTAC_094wtp_T050_lorentz.txt\",\n",
    "                     delimiter=\"\\t\",\n",
    "                     usecols=(1,2),\n",
    "                     names=(\"key\", \"value\"),\n",
    "                     header=1,\n",
    "                     engine=\"python\"\n",
    "                    )\n",
    "\n",
    "peak_centers = data[data[\"key\"] == \"xc\"]\n",
    "scattering_vector = peak_centers[\"value\"].values.tolist()\n",
    "\n",
    "x = [sqrt_miller(h[index], k[index], l[index]) for index, item in enumerate(h)]\n",
    "y = [d_reciprocal(_) for _ in scattering_vector]\n",
    "print(x)\n",
    "print(y)"
   ]
  },
  {
   "cell_type": "markdown",
   "id": "331eb01e-3b87-4d7d-b2f7-de1e14957c1a",
   "metadata": {},
   "source": [
    "The calculated values for $d^{-1}$ plotted against the respective $\\sqrt{h^2+k^2+l^2}$ and fitted by linear regression. The $R^2$-value is calculated for assessment of the fit quality:"
   ]
  },
  {
   "cell_type": "code",
   "execution_count": null,
   "id": "140df793-6f64-40cc-9a2e-96cf7c14ae82",
   "metadata": {},
   "outputs": [],
   "source": [
    "coef = np.polyfit(x, y, 1)\n",
    "fit = np.poly1d(coef)\n",
    "r2 = r2_score(y, fit(x))"
   ]
  },
  {
   "cell_type": "markdown",
   "id": "44b17ac5-2437-4bfc-affa-7566ee92f478",
   "metadata": {},
   "source": [
    "For visualization, the fit is plotted:"
   ]
  },
  {
   "cell_type": "code",
   "execution_count": null,
   "id": "5ad67955-c143-4622-9514-64648a61d122",
   "metadata": {},
   "outputs": [],
   "source": [
    "fig = plt.figure(dpi=600)\n",
    "ax = fig.add_subplot()\n",
    "ax.set(xlabel=\"$\\sqrt{h^2+k^2+l^2}$\",\n",
    "       ylabel=\"$d^{-1}$ / nm\"\n",
    "       )\n",
    "ax.plot(x, y, marker=\".\", linestyle=\"None\", color=\"black\")\n",
    "ax.plot(x, fit(x), marker=\"None\", linestyle=\":\", color=\"black\")\n",
    "\n",
    "for i, label in enumerate(h):\n",
    "    ax.annotate((\"(\"+str(h[i])+\" \"+str(k[i])+\" \"+str(l[i])+\")\"), (x[i], y[i]))\n",
    "    \n",
    "ax.text(3.0, 0.39, f\"$y$ = {str(fit)}\")\n",
    "ax.text(3.0, 0.35, f\"$R^2$ = {str(round(r2, 4))}\")\n",
    "\n",
    "plt.show()"
   ]
  },
  {
   "cell_type": "markdown",
   "id": "f6cd215c-66c0-4902-8ab4-c92cd41408aa",
   "metadata": {},
   "source": [
    "Optionally, add exact cubic phase to the AnIML document and serialize it:"
   ]
  },
  {
   "cell_type": "code",
   "execution_count": null,
   "id": "f8c316a9-10a5-4e99-ba99-3e005ff14e0a",
   "metadata": {},
   "outputs": [],
   "source": [
    "exact_cubic_phase = \"\""
   ]
  },
  {
   "cell_type": "code",
   "execution_count": null,
   "id": "16da82d0-d673-4ab5-81b9-da3214e0774c",
   "metadata": {},
   "outputs": [],
   "source": [
    "for category in experiment_step.results[1].content:\n",
    "    if category.name == \"phase information\":\n",
    "        new_parameter = Parameter(\n",
    "            name=f\"exact cubic phase\",\n",
    "            parameter_type=infer_type(exact_cubic_phase),\n",
    "            value=exact_cubic_phase\n",
    "        )\n",
    "        category.add_content(new_parameter)\n",
    "    else:\n",
    "        pass"
   ]
  },
  {
   "cell_type": "code",
   "execution_count": null,
   "id": "16e5c6d7-fc1c-44d0-9a78-744dc6dbbbf4",
   "metadata": {},
   "outputs": [],
   "source": [
    "xml_string = animl_doc.toXML()"
   ]
  },
  {
   "cell_type": "code",
   "execution_count": null,
   "id": "6678df78-b274-460c-b07f-ea3675f4c4e6",
   "metadata": {},
   "outputs": [],
   "source": [
    "with path_to_AnIML_file.open(\"w\") as f:\n",
    "    f.write(xml_string)\n",
    "del animl_doc, xml_string\n",
    "print(f\"Successfully created AnIML document.\")"
   ]
  },
  {
   "cell_type": "markdown",
   "id": "ab8937e6-6432-4d48-81ee-2fff110f463c",
   "metadata": {},
   "source": [
    "---\n",
    "\n",
    "### **Disclosure** <a class=\"anchor\" name=\"disclosure\"></a>\n",
    "\n",
    "**Contributions**\n",
    "\n",
    "If you wish to contribute to the FAIR Chemistry project, find us on [GitHub](https://github.com/FAIRChemistry)!\n",
    "\n",
    "**MIT License**\n",
    "\n",
    "Copyright (c) 2022 FAIR Chemistry\n",
    "\n",
    "Permission is hereby granted, free of charge, to any person obtaining a copy\n",
    "of this software and associated documentation files (the \"Software\"), to deal\n",
    "in the Software without restriction, including without limitation the rights\n",
    "to use, copy, modify, merge, publish, distribute, sublicense, and/or sell\n",
    "copies of the Software, and to permit persons to whom the Software is\n",
    "furnished to do so, subject to the following conditions:\n",
    "\n",
    "The above copyright notice and this permission notice shall be included in all\n",
    "copies or substantial portions of the Software.\n",
    "\n",
    "THE SOFTWARE IS PROVIDED \"AS IS\", WITHOUT WARRANTY OF ANY KIND, EXPRESS OR\n",
    "IMPLIED, INCLUDING BUT NOT LIMITED TO THE WARRANTIES OF MERCHANTABILITY,\n",
    "FITNESS FOR A PARTICULAR PURPOSE AND NONINFRINGEMENT. IN NO EVENT SHALL THE\n",
    "AUTHORS OR COPYRIGHT HOLDERS BE LIABLE FOR ANY CLAIM, DAMAGES OR OTHER\n",
    "LIABILITY, WHETHER IN AN ACTION OF CONTRACT, TORT OR OTHERWISE, ARISING FROM,\n",
    "OUT OF OR IN CONNECTION WITH THE SOFTWARE OR THE USE OR OTHER DEALINGS IN THE\n",
    "SOFTWARE."
   ]
  },
  {
   "cell_type": "code",
   "execution_count": null,
   "id": "b003ffef-a092-4f28-a1eb-ac35082c9464",
   "metadata": {},
   "outputs": [],
   "source": []
  }
 ],
 "metadata": {
  "kernelspec": {
   "display_name": "Python [conda env:fairsaxs]",
   "language": "python",
   "name": "conda-env-fairsaxs-py"
  },
  "language_info": {
   "codemirror_mode": {
    "name": "ipython",
    "version": 3
   },
   "file_extension": ".py",
   "mimetype": "text/x-python",
   "name": "python",
   "nbconvert_exporter": "python",
   "pygments_lexer": "ipython3",
   "version": "3.10.4"
  }
 },
 "nbformat": 4,
 "nbformat_minor": 5
}
