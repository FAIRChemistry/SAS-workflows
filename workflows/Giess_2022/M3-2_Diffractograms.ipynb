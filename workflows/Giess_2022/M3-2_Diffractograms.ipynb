{
 "cells": [
  {
   "cell_type": "markdown",
   "id": "d482f382-9096-427e-ac26-6d12b651a6e8",
   "metadata": {},
   "source": [
    "# FAIR and scalable management of small-angle X-ray scattering data  \n",
    "## Module 3: Data analysis and visualization\n",
    "### 3.2: Diffractograms\n",
    "\n",
    "> Authors: Torsten Giess, Selina Itzigehl, Jan Range, Johanna R. Bruckner, Juergen Pleiss  \n",
    "> Last modified: 02.05.2022\n",
    "\n",
    "---"
   ]
  },
  {
   "cell_type": "markdown",
   "id": "82c25029-b2d9-42cf-b9fa-cb9b161eed89",
   "metadata": {},
   "source": [
    "### **Abstract** <a class=\"anchor\" name=\"abstract\"></a>\n",
    "\n",
    "Using the established packages matplotlib (version 3.5.1) and pandas (version 1.4.1), as well as packages from the Python 3 standard libary, this notebook provides the means to visualize recorded data either directly from the AnIML file or from the respective measurements files. \n",
    "\n",
    "---"
   ]
  },
  {
   "cell_type": "markdown",
   "id": "08bca00d-8a2b-4903-a156-274f5680737e",
   "metadata": {},
   "source": [
    "### **Table of Contents** <a class=\"anchor\" name=\"table_of_contents\"></a>\n",
    "\n",
    "- [Abstract](#abstract)\n",
    "- [Workflow](#workflow)\n",
    "    - [User guide](#user_guide)\n",
    "    - [Preparation](#preparation)\n",
    "    - [Diffractograms with Python](#diffs)\n",
    "- [Disclosure](#disclosure)\n",
    "\n",
    "---"
   ]
  },
  {
   "cell_type": "markdown",
   "id": "d3a14dc3-3457-4d4c-9827-bde70a38926e",
   "metadata": {},
   "source": [
    "### **Workflow** <a class=\"anchor\" name=\"workflow\"></a>\n",
    "\n",
    "Following is the workflow for Module 3.2: Diffractograms with Python of FAIR and scalable management of small-angle X-ray scattering data."
   ]
  },
  {
   "cell_type": "markdown",
   "id": "4ac5ea60-fb8b-4d11-9d42-981e4d7c1e9e",
   "metadata": {},
   "source": [
    "#### **User guide** <a class=\"anchor\" name=\"user_guide\"></a>\n",
    "\n",
    "This notebook can be used to visualize measured diffractograms in different ways. Two-parameter diffractograms (measured intensity vs. scattering vector) can be plotted for single or multiple files directly from AnIML. In additon, three-parameter plots with temperature or mass fraction dependency can be achieved for raw measurement data."
   ]
  },
  {
   "cell_type": "markdown",
   "id": "778d2b3b-b837-47dc-bd46-1e718ae867ed",
   "metadata": {},
   "source": [
    "#### **Preparation** <a class=\"anchor\" name=\"preparation\"></a>\n",
    "\n",
    "This section contains the necessary preparations for using this module. Code cells in this section are required regardless of which functionality of this notebook is used. First, the required packages from the [Python 3 standard library](https://docs.python.org/3/library/), the Python Package Index ([PyPI](https://pypi.org/)), and *ad hoc* modules of this work are imported. Then, both current time and path are retrieved and stored in the desired formats."
   ]
  },
  {
   "cell_type": "code",
   "execution_count": null,
   "id": "3030bb86-729f-4729-8ff7-e412b0f6e849",
   "metadata": {},
   "outputs": [],
   "source": [
    "print(\"Importing standard library packages.\")\n",
    "from datetime import date\n",
    "from pathlib import Path\n",
    "import os\n",
    "print (\"Done.\")"
   ]
  },
  {
   "cell_type": "code",
   "execution_count": null,
   "id": "40310912-809a-4a64-8440-19e1dcad5eeb",
   "metadata": {},
   "outputs": [],
   "source": [
    "print(\"Importing PyPI packages.\")\n",
    "from pyaniml import AnIMLDocument\n",
    "import matplotlib as mpl\n",
    "import matplotlib.pyplot as plt\n",
    "import pandas as pd\n",
    "print (\"Done.\")"
   ]
  },
  {
   "cell_type": "code",
   "execution_count": null,
   "id": "caa4fd32-16a6-4312-85ee-c8f97b522e51",
   "metadata": {},
   "outputs": [],
   "source": [
    "print(\"Importing local packages.\")\n",
    "from modules.seriesreader import SeriesReader\n",
    "print(\"All done.\")"
   ]
  },
  {
   "cell_type": "code",
   "execution_count": null,
   "id": "b6867753-1a79-4f4b-8c3f-b053ce4ab7b3",
   "metadata": {},
   "outputs": [],
   "source": [
    "date_suffix = str(date.today()).replace(\"-\", \"\")[2:]"
   ]
  },
  {
   "cell_type": "code",
   "execution_count": null,
   "id": "18d69ade-5b4c-45e2-9e6b-9247f4d61b7d",
   "metadata": {},
   "outputs": [],
   "source": [
    "cwd = Path.cwd()\n",
    "path_to_datasets = cwd / \"./datasets/\""
   ]
  },
  {
   "cell_type": "markdown",
   "id": "66aed6cd-fa3b-4c7b-bbe5-14dba0cc380b",
   "metadata": {},
   "source": [
    "---\n",
    "\n",
    "#### **Import of data from AniML** <a class=\"anchor\" name=\"diffs\"></a>\n"
   ]
  },
  {
   "cell_type": "markdown",
   "id": "c69dcb9a-e610-404a-a6f7-9c477aa2ac1d",
   "metadata": {},
   "source": [
    "Export $q$ and $I$ to TSV for plotting:"
   ]
  },
  {
   "cell_type": "code",
   "execution_count": null,
   "id": "d87f7ea0-2caa-46e8-9a66-ee84eb7dd60c",
   "metadata": {},
   "outputs": [],
   "source": [
    "path_to_AnIML_file = path_to_datasets / f\"processed/fairsaxs_220512.animl\""
   ]
  },
  {
   "cell_type": "code",
   "execution_count": null,
   "id": "2b513598-245f-4e58-9ae4-733338b5b075",
   "metadata": {},
   "outputs": [],
   "source": [
    "with path_to_AnIML_file.open(\"r\") as f:\n",
    "    xml_string = f.read()\n",
    "    animl_doc = AnIMLDocument.fromXMLString(xml_string)"
   ]
  },
  {
   "cell_type": "code",
   "execution_count": null,
   "id": "2fe63be1-7f82-4b19-bc3a-ca1a9935915e",
   "metadata": {},
   "outputs": [],
   "source": [
    "reader = SeriesReader(animl_doc)"
   ]
  },
  {
   "cell_type": "code",
   "execution_count": null,
   "id": "106b4f35-1d3d-45b3-b587-d1e876f23ea7",
   "metadata": {},
   "outputs": [],
   "source": [
    "list_of_IDs = reader.available_seriesIDs()\n",
    "print(list_of_IDs)"
   ]
  },
  {
   "cell_type": "code",
   "execution_count": null,
   "id": "d0c182ce-ec68-420d-bc05-6ec3ccf9489c",
   "metadata": {},
   "outputs": [],
   "source": [
    "files_to_plot = [file for index, file in enumerate(list_of_IDs) if file.startswith(\"OTAB\")]\n",
    "print(files_to_plot)\n",
    "\n",
    "reader.add_seriesID(files_to_plot)\n",
    "dataframe = reader.create_dataframe()"
   ]
  },
  {
   "cell_type": "code",
   "execution_count": null,
   "id": "5e279ba9-7ee5-4ecc-904c-e0ba65ca518a",
   "metadata": {},
   "outputs": [],
   "source": [
    "path_to_TSV_file = path_to_datasets / f\"processed/fairsaxs_220512.tsv\""
   ]
  },
  {
   "cell_type": "code",
   "execution_count": null,
   "id": "e445302e-46a9-40d9-98fc-7e6b091ddd2b",
   "metadata": {},
   "outputs": [],
   "source": [
    "dataframe.to_csv(\n",
    "    path_or_buf=path_to_TSV_file,\n",
    "    sep=\"\\t\",\n",
    "    index=False\n",
    ")"
   ]
  },
  {
   "cell_type": "markdown",
   "id": "868e3989-4b93-4504-a569-9b30b95f5ba6",
   "metadata": {
    "tags": []
   },
   "source": [
    "---\n",
    "\n",
    "#### **Diffractograms with Python** <a class=\"anchor\" name=\"diffs\"></a>\n",
    "\n",
    "Data visualization is an important part of the analysis. The following sections allow the visualization of measured data directly from the AnIML file to various formats."
   ]
  },
  {
   "cell_type": "markdown",
   "id": "f19667b0-afaf-467f-8e6a-da0980e2b6e8",
   "metadata": {},
   "source": [
    "**Diffractograms with two parameters**"
   ]
  },
  {
   "cell_type": "markdown",
   "id": "d1a110ad-d3bf-4141-82e0-40f14a4d3519",
   "metadata": {},
   "source": [
    "This section enables creating single two-parameter diffractograms of all measurements contained in the AnIML file by iterating through the columns in the created TSV file:"
   ]
  },
  {
   "cell_type": "code",
   "execution_count": null,
   "id": "6788e149-d6b6-4203-a02c-5f6dfe58f158",
   "metadata": {},
   "outputs": [],
   "source": [
    "for index in range(0, (len(dataframe.columns)),2):\n",
    "    data = pd.read_table(path_to_TSV_file,\n",
    "                      usecols = [index, (index+1)],\n",
    "                      names = [\"q\", \"I\"],\n",
    "                      header = 1,\n",
    "                      engine = \"python\"\n",
    "                     )\n",
    "    \n",
    "    _ = data[data[\"q\"] >= 0.5]\n",
    "    plot_data = _[_[\"q\"] <= 7]\n",
    "    \n",
    "    scattering_vector = plot_data[\"q\"]\n",
    "    counts_per_area = plot_data[\"I\"]\n",
    "    \n",
    "    plt.plot(scattering_vector,\n",
    "            counts_per_area,\n",
    "            linestyle = \"-\",\n",
    "            marker = \",\",\n",
    "            label = (list(dataframe.columns)[index])[0:-2],\n",
    "            color = \"black\")\n",
    "    plt.xlim(0,7)\n",
    "    plt.xlabel(\"$q$ / $\\mathrm{nm}^{-1}$\")\n",
    "    plt.yscale(\"log\")\n",
    "    plt.ylabel(\"log($I$ / a.u.)\")\n",
    "    plt.legend(frameon=False)\n",
    "    plt.show()"
   ]
  },
  {
   "cell_type": "markdown",
   "id": "d7176d30-948a-4238-a4d6-127128ee21f3",
   "metadata": {},
   "source": [
    "---\n",
    "This section allows to create plots with multiple measurements from the AnIML file.\n",
    "\n",
    "First add the determined phases to `phase`. Then instantiate the figure and add all diffractograms to it. The diffractograms are plotted on a logarithmic scale, therefore, the intensity is scaled by `10**index` and shifted by `index*10**(index/2)` on the y-axis."
   ]
  },
  {
   "cell_type": "code",
   "execution_count": null,
   "id": "19c3e4eb-2d2f-46b0-8654-148d15be3113",
   "metadata": {},
   "outputs": [],
   "source": [
    "phase = [\"$\\mathrm{L}_{1}$\", \" \", \"$\\mathrm{H}_{1}$\", \" \", \"$\\mathrm{V}_{1}$\", \" \", \"$\\mathrm{L}_{\\u03B1}$\", \" \", \"cr\"]"
   ]
  },
  {
   "cell_type": "code",
   "execution_count": null,
   "id": "d09e5220-0e99-4240-bb5d-fb4fcda4551f",
   "metadata": {},
   "outputs": [],
   "source": [
    "fig = plt.figure(figsize=(10,10), dpi=600)\n",
    "ax = fig.add_subplot()\n",
    "ax.set_xlabel(\"$q$ / $\\mathrm{nm}^{-1}$\")\n",
    "ax.set_xlim(0,8)\n",
    "ax.tick_params(which=\"both\",\n",
    "               left=False,\n",
    "               labelleft=False\n",
    "               )\n",
    "ax.set_ylabel(\"log($I$ / $a.u.$)\")\n",
    "ax.set_yscale(\"log\")\n",
    "\n",
    "for index in range(0, len(dataframe.columns),2):\n",
    "    data = pd.read_table(path_to_TSV_file,\n",
    "                      usecols = [index, (index+1)],\n",
    "                      names = [\"q\", \"I\"],\n",
    "                      header = 1,\n",
    "                      engine = \"python\"\n",
    "                     )\n",
    "    \n",
    "    _ = data[data[\"q\"] >= 0.5]\n",
    "    plot_data = _[_[\"q\"] <= 7]\n",
    "\n",
    "    scattering_vector = plot_data[\"q\"]\n",
    "    counts_per_area = ((plot_data[\"I\"]*(10**index)) + (index*10**(index/2)))\n",
    "    \n",
    "    ax.plot(scattering_vector,\n",
    "            counts_per_area,\n",
    "            marker=\",\",\n",
    "            linestyle=\"-\",\n",
    "            linewidth=0.75,\n",
    "            color=\"black\"\n",
    "            )\n",
    "    ax.text(7.5, (counts_per_area.iloc[-15]), phase[index])\n",
    "    \n",
    "plt.show()"
   ]
  },
  {
   "cell_type": "markdown",
   "id": "83a8e967-1d95-49ad-b737-59a40b5cae30",
   "metadata": {},
   "source": [
    "**Diffractograms with three parameters**\n",
    "\n",
    "This section enables creating three-parameter diffractograms with the scattering vector _q_ vs. the mass fraction _w_ or temperature _T_ and the measured intensitiy _I_.\n",
    "\n",
    "---\n",
    "\n",
    "For mass fration dependency, go to the measurement folder (`datasets/raw/`) containing the data for visualization and create a list of files:"
   ]
  },
  {
   "cell_type": "code",
   "execution_count": null,
   "id": "d9280051-79e6-4c90-9f84-119140b819e7",
   "metadata": {},
   "outputs": [],
   "source": [
    "path_to_T_series = path_to_datasets / \"raw/OTAB_measurement_data/OTAB_000wtp_T025\""
   ]
  },
  {
   "cell_type": "code",
   "execution_count": null,
   "id": "41d58cf8-113f-4377-bad1-66629b5436a2",
   "metadata": {},
   "outputs": [],
   "source": [
    "files = path_to_T_series.glob(\"*.pdh\")\n",
    "meas_files = [file for file in list(files) if file.is_file()]\n",
    "meas_files.sort(reverse=True)\n",
    "\n",
    "print([measurement.stem for measurement in meas_files])"
   ]
  },
  {
   "cell_type": "markdown",
   "id": "6c28b9f7-99f1-402f-a6ce-2d37356a7d75",
   "metadata": {},
   "source": [
    "Add the measured mass fractions to `mass_fractions` and instantiate the `inferno` colormap by storing the number of measurements in `n_meas`. "
   ]
  },
  {
   "cell_type": "code",
   "execution_count": null,
   "id": "7c3c880d-cb00-47dc-b673-bc92cdaa2819",
   "metadata": {},
   "outputs": [],
   "source": [
    "mass_fractions = [10, 20, 30, 40, 50, 60, 61, 62, 63, 64, 65, 66, 67, 68, 69, 70, 71, 73, 74, 75, 78, 79, 80, 90, 100]\n",
    "mass_fractions.sort(reverse=True)"
   ]
  },
  {
   "cell_type": "code",
   "execution_count": null,
   "id": "45939a17-56e7-4903-ac9a-71e7e6b1ec5a",
   "metadata": {},
   "outputs": [],
   "source": [
    "cmap = mpl.cm.gist_rainbow\n",
    "n_meas = len(meas_files)\n",
    "print(n_meas)"
   ]
  },
  {
   "cell_type": "markdown",
   "id": "37679676-befe-474a-8050-1b5f5b85fe10",
   "metadata": {},
   "source": [
    "Instantiate the figure and add all measurements to it:"
   ]
  },
  {
   "cell_type": "code",
   "execution_count": null,
   "id": "c0d5458e-79b7-4100-a6da-4b8f8315d640",
   "metadata": {},
   "outputs": [],
   "source": [
    "fig = plt.figure()\n",
    "ax = plt.axes(projection=\"3d\")\n",
    "ax.figure.set_size_inches(10, 10)\n",
    "ax.set_xlabel(\"$q$ / $\\mathrm{nm}^{-1}$\")\n",
    "ax.xaxis.set_ticks([0, 1, 2, 3, 4, 5, 6, 7])\n",
    "ax.set_ylabel(\"$x$ / wt%\")\n",
    "ax.set_ylim(0, 100)\n",
    "ax.set_zlabel(\"$I$ / $a.u.$\")\n",
    "\n",
    "for measurement in range(len(mass_fractions)):\n",
    "    print(f\"Adding {meas_files[measurement].stem} to figure.\")\n",
    "\n",
    "    data = pd.read_table(\n",
    "        meas_files[measurement],\n",
    "        delimiter=\"   \",\n",
    "        usecols=[0, 1],\n",
    "        names=[\"q\", \"I\"],\n",
    "        header=5,\n",
    "        skipfooter=496,\n",
    "        engine=\"python\",\n",
    "    )\n",
    "\n",
    "    scattering_vector = data[\"q\"]\n",
    "    mass_fraction = []\n",
    "    counts_per_area = data[\"I\"]\n",
    "\n",
    "    for data_points in range(len(scattering_vector)):\n",
    "        mass_fraction.insert(data_points, mass_fractions[measurement])\n",
    "\n",
    "    ax.plot(\n",
    "        scattering_vector,\n",
    "        mass_fraction,\n",
    "        counts_per_area,\n",
    "        linestyle=\"-\",\n",
    "        marker=\",\",\n",
    "        color=cmap(measurement / float(n_meas)),\n",
    "    )\n",
    "\n",
    "plt.show()"
   ]
  },
  {
   "cell_type": "markdown",
   "id": "766abe8b-d672-4b18-b159-08edbe945470",
   "metadata": {},
   "source": [
    "---\n",
    "\n",
    "For temperature dependency, go to the measurement folder (`datasets/raw/`) containing the data for visualization and create a list of files:"
   ]
  },
  {
   "cell_type": "code",
   "execution_count": null,
   "id": "d93f5ae6-dd29-426f-910f-3260ab43fcb5",
   "metadata": {},
   "outputs": [],
   "source": [
    "path_to_T_series = path_to_datasets / \"raw/OTAB_measurement_data/OTAB_095wtp_T\""
   ]
  },
  {
   "cell_type": "code",
   "execution_count": null,
   "id": "38ebf902-a047-44eb-9369-c736af111b0a",
   "metadata": {},
   "outputs": [],
   "source": [
    "files = path_to_T_series.glob(\"*.pdh\")\n",
    "meas_files = [file for file in list(files) if file.is_file()]\n",
    "meas_files.sort(reverse=True)\n",
    "\n",
    "print([measurement.stem for measurement in meas_files])"
   ]
  },
  {
   "cell_type": "markdown",
   "id": "26209f35-e2dc-4f68-8e68-a03667d55cf4",
   "metadata": {},
   "source": [
    "Add the measured temperature range and step width to `temperatures` and instantiate the `inferno` colormap: "
   ]
  },
  {
   "cell_type": "code",
   "execution_count": null,
   "id": "26e5c90a-8edf-4170-8618-5ff01df268cf",
   "metadata": {},
   "outputs": [],
   "source": [
    "temperatures = [temperature for temperature in range(10, 96, 1)]\n",
    "temperatures.sort(reverse=True)"
   ]
  },
  {
   "cell_type": "code",
   "execution_count": null,
   "id": "7e95c25d-bc31-4a37-8a70-f414ecadb391",
   "metadata": {},
   "outputs": [],
   "source": [
    "cmap = mpl.cm.inferno.reversed()\n",
    "n_meas = len(meas_files)\n",
    "print(n_meas)"
   ]
  },
  {
   "cell_type": "markdown",
   "id": "86bd3db8-6d7e-4d8f-8b48-cb44e876d911",
   "metadata": {},
   "source": [
    "Instantiate the figure and add all measurements to it:"
   ]
  },
  {
   "cell_type": "code",
   "execution_count": null,
   "id": "bbb00921-d261-4b0d-b995-5db25e7db17a",
   "metadata": {},
   "outputs": [],
   "source": [
    "fig = plt.figure()\n",
    "ax = plt.axes(projection=\"3d\")\n",
    "ax.figure.set_size_inches(10, 10)\n",
    "ax.set_xlabel(\"$q$ / $\\mathrm{nm}^{-1}$\")\n",
    "ax.xaxis.set_ticks([0, 1, 2, 3, 4, 5, 6, 7])\n",
    "ax.set_ylabel(\"$T$ / °C\")\n",
    "ax.set_ylim(0, 100)\n",
    "ax.set_zlabel(\"$I$ / $a.u.$\")\n",
    "\n",
    "for measurement in range(len(temperatures)):\n",
    "    print(f\"Adding {meas_files[measurement].stem} to figure.\")\n",
    "\n",
    "    data = pd.read_table(\n",
    "        meas_files[measurement],\n",
    "        delimiter=\"   \",\n",
    "        usecols=[0, 1],\n",
    "        names=[\"q\", \"I\"],\n",
    "        header=5,\n",
    "        skipfooter=496,\n",
    "        engine=\"python\",\n",
    "    )\n",
    "\n",
    "    scattering_vector = data[\"q\"]\n",
    "    temperature = []\n",
    "    counts_per_area = data[\"I\"]\n",
    "\n",
    "    for data_points in range(len(scattering_vector)):\n",
    "        temperature.insert(data_points, temperatures[measurement])\n",
    "\n",
    "    ax.plot(\n",
    "        scattering_vector,\n",
    "        temperature,\n",
    "        counts_per_area,\n",
    "        marker=\",\",\n",
    "        color=cmap(measurement / float(n_meas)),\n",
    "    )\n",
    "    \n",
    "plt.show()"
   ]
  },
  {
   "cell_type": "markdown",
   "id": "ab8937e6-6432-4d48-81ee-2fff110f463c",
   "metadata": {},
   "source": [
    "---\n",
    "\n",
    "### **Disclosure** <a class=\"anchor\" name=\"disclosure\"></a>\n",
    "\n",
    "**Contributions**\n",
    "\n",
    "If you wish to contribute to the FAIR Chemistry project, find us on [GitHub](https://github.com/FAIRChemistry)!\n",
    "\n",
    "**MIT License**\n",
    "\n",
    "Copyright (c) 2022 FAIR Chemistry\n",
    "\n",
    "Permission is hereby granted, free of charge, to any person obtaining a copy\n",
    "of this software and associated documentation files (the \"Software\"), to deal\n",
    "in the Software without restriction, including without limitation the rights\n",
    "to use, copy, modify, merge, publish, distribute, sublicense, and/or sell\n",
    "copies of the Software, and to permit persons to whom the Software is\n",
    "furnished to do so, subject to the following conditions:\n",
    "\n",
    "The above copyright notice and this permission notice shall be included in all\n",
    "copies or substantial portions of the Software.\n",
    "\n",
    "THE SOFTWARE IS PROVIDED \"AS IS\", WITHOUT WARRANTY OF ANY KIND, EXPRESS OR\n",
    "IMPLIED, INCLUDING BUT NOT LIMITED TO THE WARRANTIES OF MERCHANTABILITY,\n",
    "FITNESS FOR A PARTICULAR PURPOSE AND NONINFRINGEMENT. IN NO EVENT SHALL THE\n",
    "AUTHORS OR COPYRIGHT HOLDERS BE LIABLE FOR ANY CLAIM, DAMAGES OR OTHER\n",
    "LIABILITY, WHETHER IN AN ACTION OF CONTRACT, TORT OR OTHERWISE, ARISING FROM,\n",
    "OUT OF OR IN CONNECTION WITH THE SOFTWARE OR THE USE OR OTHER DEALINGS IN THE\n",
    "SOFTWARE."
   ]
  },
  {
   "cell_type": "code",
   "execution_count": null,
   "id": "b003ffef-a092-4f28-a1eb-ac35082c9464",
   "metadata": {},
   "outputs": [],
   "source": []
  }
 ],
 "metadata": {
  "kernelspec": {
   "display_name": "Python [conda env:fairsaxs]",
   "language": "python",
   "name": "conda-env-fairsaxs-py"
  },
  "language_info": {
   "codemirror_mode": {
    "name": "ipython",
    "version": 3
   },
   "file_extension": ".py",
   "mimetype": "text/x-python",
   "name": "python",
   "nbconvert_exporter": "python",
   "pygments_lexer": "ipython3",
   "version": "3.10.4"
  }
 },
 "nbformat": 4,
 "nbformat_minor": 5
}
