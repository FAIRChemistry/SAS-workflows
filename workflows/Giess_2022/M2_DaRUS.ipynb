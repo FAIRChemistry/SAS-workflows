{
 "cells": [
  {
   "cell_type": "markdown",
   "id": "5224c88e-dedd-44d4-9e87-d3ebe123f7fb",
   "metadata": {},
   "source": [
    "# FAIR and scalable management of small-angle X-ray scattering data  \n",
    "## Module 2: Packing and upload to DaRUS\n",
    "\n",
    "> Authors: Torsten Giess, Selina Itzigehl, Jan Range, Johanna Bruckner, Juergen Pleiss  \n",
    "> Last modified: 09.06.2022\n",
    "\n",
    "---"
   ]
  },
  {
   "cell_type": "markdown",
   "id": "e1a90446-1ac6-4093-b5ee-c64fbd1fe70a",
   "metadata": {},
   "source": [
    "### **Abstract** <a class=\"anchor\" name=\"abstract\"></a>\n",
    "\n",
    "With novel Python packages [pyAnIML](https://github.com/FAIRChemistry/pyAnIML) (version 1.0.0) and [pyDaRUS](https://github.com/JR-1991/pyDaRUS) (version 1.0.4), as well as various packages from the Python 3 standard libary, this notebook provides the means to extract metadata from an [AnIML](https://animl.org/) document, create a searchable Dataverse metadata block from it, package the document and any additional files to an archive format, and upload everything to the University of Stuttgart Dataverse installation, [DaRUS](https://darus.uni-stuttgart.de/). It is also possible to inspect the generated metadata block by downloading and displaying it.   \n",
    "\n",
    "---"
   ]
  },
  {
   "cell_type": "markdown",
   "id": "727394d8-a52e-4c04-a7c8-d053a3490d9a",
   "metadata": {},
   "source": [
    "### **Table of Contents** <a class=\"anchor\" name=\"table_of_contents\"></a>\n",
    "\n",
    "- [Abstract](#abstract)\n",
    "- [Workflow](#workflow)\n",
    "    - [User guide](#user_guide)\n",
    "    - [Preparation](#preparation)\n",
    "    - [Metadata extraction from AnIML document](#extraction)\n",
    "    - [Packing files to OMEX or ZIP](#packing)\n",
    "    - [Upload to DaRUS](#upload)\n",
    "    - [Download from DaRUS](#download)\n",
    "    - [Edit DaRUS datasets](#edit)\n",
    "- [Disclosure](#disclosure)\n",
    "\n",
    "---"
   ]
  },
  {
   "cell_type": "markdown",
   "id": "35b4bb85-ffab-4507-ba7a-5ce391ed084d",
   "metadata": {},
   "source": [
    "### **Workflow** <a class=\"anchor\" name=\"workflow\"></a>\n",
    "\n",
    "Following is the workflow for Module 2 of FAIR and scalable management of small-angle X-ray scattering data."
   ]
  },
  {
   "cell_type": "markdown",
   "id": "bbbd0df7-718e-4d80-91ed-c1613cb60dd1",
   "metadata": {},
   "source": [
    "#### **User guide** <a class=\"anchor\" name=\"user_guide\"></a>\n",
    "\n",
    "This notebook is used for creating an archive in either OMEX or ZIP format of a dataset consisting of an AnIML document and any number of additional files belonging to the dataset in question. This archive is then uploaded to DaRUS. Furthermore, any given accessible dataset can be downloaded, inspected, modified, and updated on DaRUS."
   ]
  },
  {
   "cell_type": "markdown",
   "id": "701f1194-628d-43a3-827b-a8c9081e147b",
   "metadata": {},
   "source": [
    "#### **Preparation** <a class=\"anchor\" name=\"preparation\"></a>\n",
    "\n",
    "This section contains the necessary preparations for using this module. Code cells in this section are required regardless of which functionality of this notebook is used. First, the required packages from the [Python 3 standard library](https://docs.python.org/3/library/), the Python Package Index ([PyPI](https://pypi.org/)), and *ad hoc* modules of this work are imported. Then, both current time and path are retrieved and stored in the desired formats."
   ]
  },
  {
   "cell_type": "code",
   "execution_count": null,
   "id": "4cd8fd5b-0121-4e52-a0fb-27786e72d2f6",
   "metadata": {},
   "outputs": [],
   "source": [
    "print(\"Importing standard library packages.\")\n",
    "from datetime import date\n",
    "import os\n",
    "from pathlib import Path\n",
    "print (\"Done.\")"
   ]
  },
  {
   "cell_type": "code",
   "execution_count": null,
   "id": "89401621-aafd-480e-ba2f-b7f4b74c1d93",
   "metadata": {},
   "outputs": [],
   "source": [
    "print(\"Importing PyPI packages.\")\n",
    "from pyaniml import AnIMLDocument\n",
    "from pyDaRUS import Citation, Dataset, EngMeta, Process\n",
    "from pyDaRUS.metadatablocks.citation import SubjectEnum, IdentifierScheme, IdType\n",
    "from pyDaRUS.metadatablocks.engMeta import DataGeneration\n",
    "from libcombine import CombineArchive, KnownFormats, OmexDescription, VCard\n",
    "print (\"Done.\")"
   ]
  },
  {
   "cell_type": "code",
   "execution_count": null,
   "id": "1192c8a9-c61e-42a4-b79a-183a9c0d1e85",
   "metadata": {},
   "outputs": [],
   "source": [
    "date_suffix = str(date.today()).replace(\"-\", \"\")[2:]"
   ]
  },
  {
   "cell_type": "code",
   "execution_count": null,
   "id": "5075500b-9c68-4ccf-aca7-003adee7cb70",
   "metadata": {},
   "outputs": [],
   "source": [
    "cwd = Path.cwd()\n",
    "path_to_datasets = cwd / \"./datasets/\""
   ]
  },
  {
   "cell_type": "markdown",
   "id": "712ac068-0611-4bba-86f0-f71c83241de6",
   "metadata": {},
   "source": [
    "#### **Metadata extraction from AnIML document** <a class=\"anchor\" name=\"extraction\"></a>\n",
    "\n",
    "In this section, DaRUS metadata block objects are created. These will later be used to create a full DaRUS dataset together with any files to be uploaded. Relevant metadata is extracted directly from the AnIML document provided. Information which can not be inferred from the AnIML document at this moment can be added manually."
   ]
  },
  {
   "cell_type": "code",
   "execution_count": null,
   "id": "30132cb5-0180-494d-aeb8-d08c3b15744b",
   "metadata": {},
   "outputs": [],
   "source": [
    "dataset = Dataset()"
   ]
  },
  {
   "cell_type": "markdown",
   "id": "a307e438-6b7e-4c91-9388-b7f8bd3a6b1a",
   "metadata": {},
   "source": [
    "1. Give path to AnIML document to be uploaded to DaRUS in form of a pathlib Path:"
   ]
  },
  {
   "cell_type": "code",
   "execution_count": null,
   "id": "56c62586-40fc-4ec9-953a-6f7f9c6ec488",
   "metadata": {},
   "outputs": [],
   "source": [
    "path_to_AnIML_file = path_to_datasets / f\"processed/fairsaxs_220512.animl\""
   ]
  },
  {
   "cell_type": "markdown",
   "id": "f3691f71-8252-4fe4-ad7a-edacf4aed612",
   "metadata": {},
   "source": [
    "2. Read document as string and create AnIML object from it:"
   ]
  },
  {
   "cell_type": "code",
   "execution_count": null,
   "id": "0319b28b-a60a-4f86-8211-16aa30229b02",
   "metadata": {},
   "outputs": [],
   "source": [
    "with path_to_AnIML_file.open(\"r\") as f:\n",
    "    xml_string = f.read()\n",
    "    animl_doc = AnIMLDocument.fromXMLString(xml_string)"
   ]
  },
  {
   "cell_type": "markdown",
   "id": "1abe7e01-34fb-4245-864e-3554dedf3408",
   "metadata": {},
   "source": [
    "3. Create the necessary pyDaRUS objects to be filled with metadata from the AnIML document. The title of the dataset is also provided here as an argument to the citation block:"
   ]
  },
  {
   "cell_type": "code",
   "execution_count": null,
   "id": "e285c130-1fd9-43ee-ad3f-0cae6eeb0e58",
   "metadata": {},
   "outputs": [],
   "source": [
    "citation_block = Citation()\n",
    "process_block = Process()\n",
    "engineering_block = EngMeta()"
   ]
  },
  {
   "cell_type": "markdown",
   "id": "40d9a586-7863-4814-bfc2-f0187a78d9ff",
   "metadata": {},
   "source": [
    "4. Add general citation information to the citation block object that cannot be inferred from the AnIML document itself:"
   ]
  },
  {
   "cell_type": "code",
   "execution_count": null,
   "id": "eb551dcb-0f69-42ed-9cfe-0bb7f9e81c57",
   "metadata": {},
   "outputs": [],
   "source": [
    "citation_block.title = \"Data for: FAIR and scalable management of small-angle X-ray scattering data\""
   ]
  },
  {
   "cell_type": "code",
   "execution_count": null,
   "id": "8c4c0cb1-d1dd-4698-a1a7-c0026d717850",
   "metadata": {},
   "outputs": [],
   "source": [
    "citation_block.add_author(\"Giess, Torsten\", \"University of Stuttgart\", IdentifierScheme.orcid, \"0000-0002-8512-8606\")\n",
    "citation_block.add_author(\"Itzigehl, Selina\", \"University of Stuttgart\", IdentifierScheme.orcid, \"0000-0003-0311-5930\")\n",
    "citation_block.add_author(\"Range, Jan Peter\", \"University of Stuttgart\", IdentifierScheme.orcid, \"0000-0001-6478-1051\")\n",
    "citation_block.add_author(\"Bruckner, Johanna R.\", \"University of Stuttgart\", IdentifierScheme.orcid, \"0000-0001-7183-6532\")\n",
    "citation_block.add_author(\"Pleiss, Jürgen\", \"University of Stuttgart\", IdentifierScheme.orcid, \"0000-0003-1045-8202\")"
   ]
  },
  {
   "cell_type": "code",
   "execution_count": null,
   "id": "536c6f6c-34b8-4787-adb3-0ff31bdd8165",
   "metadata": {},
   "outputs": [],
   "source": [
    "citation_block.add_contact(\"Pleiss, Juergen\", \"University of Stuttgart\", \"juergen.pleiss@itb.uni-stuttgart.de\")"
   ]
  },
  {
   "cell_type": "code",
   "execution_count": null,
   "id": "b175c25f-c80b-4b99-b3b5-2a6ff23433de",
   "metadata": {},
   "outputs": [],
   "source": [
    "citation_block.add_description(f\"This dataset contains small-angle X-ray scattering (SAXS) measurements on various octyltrimethylammonium bromide (OTAB)/water and octyltrimethylammonium chloride (OTAC)/water mixtures at different mass fractions and temperatures, as well as analysis and visualization data thereof. The data and metadata are contained within an archive adhering to the OMEX standard, in the form of a master AnIML document and additional files in TSV and PNG format.\", f\"{date.today()}\")"
   ]
  },
  {
   "cell_type": "code",
   "execution_count": null,
   "id": "a19eb35d-aab8-461d-bf7e-63f8d2957d37",
   "metadata": {},
   "outputs": [],
   "source": [
    "citation_block.subject = [SubjectEnum.chemistry, SubjectEnum.physics, SubjectEnum.computer_and__information__science]"
   ]
  },
  {
   "cell_type": "code",
   "execution_count": null,
   "id": "4ef2d981-51b5-4edd-837e-50de302013a5",
   "metadata": {},
   "outputs": [],
   "source": [
    "citation_block.add_keyword(\n",
    "    term=\"AnIML\",\n",
    "    vocabulary=\"Wikidata\",\n",
    "    vocabulary_url=\"https://www.wikidata.org/wiki/Q97359795\"\n",
    ")\n",
    "citation_block.add_keyword(\n",
    "    term=\"Project Jupyter\",\n",
    "    vocabulary=\"Wikidata\",\n",
    "    vocabulary_url=\"https://www.wikidata.org/wiki/Q55630549\"\n",
    ")\n",
    "citation_block.add_keyword(\n",
    "    term=\"Surfactants\",\n",
    "    vocabulary=\"Loterre chemistry vocabulary\",\n",
    "    vocabulary_url=\"http://data.loterre.fr/ark:/67375/37T-JDM7BJHX-0\"\n",
    ")\n",
    "citation_block.add_keyword(\n",
    "    term=\"Lyotropic liquid crystal\",\n",
    "    vocabulary=\"Wikidata\",\n",
    "    vocabulary_url=\"https://www.wikidata.org/wiki/Q6709833\"\n",
    ")\n",
    "citation_block.add_keyword(\n",
    "    term=\"X-ray scattering\",\n",
    "    vocabulary=\"Wikidata\",\n",
    "    vocabulary_url=\"https://www.wikidata.org/wiki/Q57979862\"\n",
    ")\n",
    "citation_block.add_keyword(\n",
    "    term=\"OTAB\",\n",
    "    vocabulary=\"CHEBI\",\n",
    "    vocabulary_url=\"http://purl.obolibrary.org/obo/CHEBI_346954\"\n",
    ")\n",
    "citation_block.add_keyword(\n",
    "    term=\"octyltrimethylammonium bromide\",\n",
    "    vocabulary=\"CHEBI\",\n",
    "    vocabulary_url=\"http://purl.obolibrary.org/obo/CHEBI_346954\"\n",
    ")\n",
    "citation_block.add_keyword(\n",
    "    term=\"OTAC\"\n",
    ")"
   ]
  },
  {
   "cell_type": "code",
   "execution_count": null,
   "id": "4538e94f-6ed2-42ed-8cf3-154a1f3f8c54",
   "metadata": {},
   "outputs": [],
   "source": [
    "citation_block.add_topic_classification(\n",
    "    term=\"Physical chemistry\",\n",
    "    vocabulary=\"Loterre chemistry vocabulary\",\n",
    "    vocabulary_url=\"http://data.loterre.fr/ark:/67375/37T-BJ2L28P4-W\"\n",
    ")\n",
    "citation_block.add_topic_classification(\n",
    "    term=\"Research data management\",\n",
    "    vocabulary=\"Wikidata\",\n",
    "    vocabulary_url=\"https://www.wikidata.org/wiki/Q30089794\"\n",
    ")"
   ]
  },
  {
   "cell_type": "code",
   "execution_count": null,
   "id": "73b0e0b4-c6da-45ba-9c78-1dff7dccd2e3",
   "metadata": {},
   "outputs": [],
   "source": [
    "citation_block.add_grant_information(\n",
    "    grant_agency=\"DFG\",\n",
    "    grant_number=\"358283783 - SFB 1333\"\n",
    ")\n",
    "citation_block.add_grant_information(\n",
    "    grant_agency=\"DFG\",\n",
    "    grant_number=\"EXC 2075\"\n",
    ")\n",
    "citation_block.add_grant_information(\n",
    "    grant_agency=\"Ministry of Science, Research and the Arts Baden-Württemberg\",\n",
    "    grant_number=\"None\"\n",
    ")"
   ]
  },
  {
   "cell_type": "code",
   "execution_count": null,
   "id": "1bf9dc25-b8b6-4c65-bca7-facbacac7819",
   "metadata": {},
   "outputs": [],
   "source": [
    "citation_block.add_project(\n",
    "    name=\"A04\",\n",
    "    level=\"1\"\n",
    ")\n",
    "citation_block.add_project(\n",
    "    name=\"INF\",\n",
    "    level=\"1\"\n",
    ")"
   ]
  },
  {
   "cell_type": "code",
   "execution_count": null,
   "id": "3862ba04-9e68-4f67-a83b-cbdd484ce8c1",
   "metadata": {},
   "outputs": [],
   "source": [
    "citation_block.add_related_publication(\n",
    "    citation=\"Giess T., Itzigehl S., Range J. P., Bruckner J. R., Pleiss J., FAIR and scalable management of small-angle X-ray scattering data, 2022, submitted\",\n",
    "    id_type=IdType.doi,\n",
    "    id_number=\"tba\",\n",
    "    url=\"https://www.tba.org\"\n",
    ")"
   ]
  },
  {
   "cell_type": "code",
   "execution_count": null,
   "id": "b9671dea",
   "metadata": {},
   "outputs": [],
   "source": [
    "citation_block.notes = 'All Jupyter Notebooks, as well as ad hoc scripts used can be found in our <a href=\"https://github.com/FAIRChemistry/Giess_2022\">FAIR Chemistry GitHub repository</a>. Information about the OMEX standard can be found at <a href=\"http://co.mbine.org/standards/omex\">here</a>.'"
   ]
  },
  {
   "cell_type": "code",
   "execution_count": null,
   "id": "3aae973c-d492-4356-b158-bca6fb97af27",
   "metadata": {},
   "outputs": [],
   "source": [
    "citation_block.depositor = \"Giess, Torsten\"\n",
    "citation_block.deposit_date = str(date.today())"
   ]
  },
  {
   "cell_type": "markdown",
   "id": "32321db9-f343-4e9e-8110-678387cb9694",
   "metadata": {},
   "source": [
    "5. Retrieve experiment name from the AnIML document:"
   ]
  },
  {
   "cell_type": "code",
   "execution_count": null,
   "id": "d0bbc958-7172-45b6-b83c-2a108bcd1c4a",
   "metadata": {},
   "outputs": [],
   "source": [
    "method_name = animl_doc.experiment_step_set.experiment_steps[0].result.results[0].content[0].name"
   ]
  },
  {
   "cell_type": "markdown",
   "id": "9e8bef7c-22a7-4a34-84b9-2881c5e75e72",
   "metadata": {},
   "source": [
    "6. Retrieve experiment parameters, remove duplicate entries, and transform the resulting list into a comma-separated string:"
   ]
  },
  {
   "cell_type": "code",
   "execution_count": null,
   "id": "198e433b-6840-42c8-bc0b-6c60cc3174d2",
   "metadata": {},
   "outputs": [],
   "source": [
    "for experiment_step in animl_doc.experiment_step_set.experiment_steps:\n",
    "    for category in experiment_step.result.results:\n",
    "        if category.name == \"Analyses\":\n",
    "            continue\n",
    "        for series_set in category.content:\n",
    "            unique_parameters = {series.unit.label: series.unit.quantity for series in series_set.series}"
   ]
  },
  {
   "cell_type": "code",
   "execution_count": null,
   "id": "0779b2e2-c4c4-4531-9115-724fbf425871",
   "metadata": {},
   "outputs": [],
   "source": [
    "method_parameter_labels = \", \".join(unique_parameters.keys())"
   ]
  },
  {
   "cell_type": "markdown",
   "id": "64120630-e1c1-41f4-b624-810d6775fd71",
   "metadata": {},
   "source": [
    "7. Add experiment name and its relevant parameters to the process metadata block object:"
   ]
  },
  {
   "cell_type": "code",
   "execution_count": null,
   "id": "98a4ee2e-0b0e-49e2-bc5e-503762700a9d",
   "metadata": {},
   "outputs": [],
   "source": [
    "process_block.add_processing_methods(\n",
    "    name=method_name,\n",
    "    parameters=method_parameter_labels,\n",
    ")"
   ]
  },
  {
   "cell_type": "markdown",
   "id": "f56bee0a-62ee-43c4-af30-b8bb9e523c9c",
   "metadata": {},
   "source": [
    "8. Create dictionaries of the relevant parameters' names and units:"
   ]
  },
  {
   "cell_type": "code",
   "execution_count": null,
   "id": "1e7029e4-7cc5-4359-a260-9deed5ce5577",
   "metadata": {},
   "outputs": [],
   "source": [
    "parameter_names = unique_parameters\n",
    "parameter_names[\"T\"] = \"temperature\"\n",
    "parameter_names[\"w\"] = \"mass fraction\""
   ]
  },
  {
   "cell_type": "code",
   "execution_count": null,
   "id": "0d4a1b27-27ce-4677-bdb8-cd2c5d271fa9",
   "metadata": {},
   "outputs": [],
   "source": [
    "parameter_units = {\n",
    "    \"q\": \"nm^-1\",\n",
    "    \"I\": \"a.u.\",\n",
    "    \"T\": \"°C\",\n",
    "    \"w\": \"wt%\"\n",
    "}"
   ]
  },
  {
   "cell_type": "markdown",
   "id": "ed250954-0a91-4e33-aa14-4edc56d2d35b",
   "metadata": {},
   "source": [
    "9. Add the full parameter information to the process metadata block object:"
   ]
  },
  {
   "cell_type": "code",
   "execution_count": null,
   "id": "724c275c-581f-4139-b86f-66a0d3bb8606",
   "metadata": {},
   "outputs": [],
   "source": [
    "for parameter in unique_parameters.keys():    \n",
    "    process_block.add_method_parameters(\n",
    "        name=parameter_names[parameter],\n",
    "        symbol=parameter,\n",
    "        unit=parameter_units[parameter]\n",
    "    )"
   ]
  },
  {
   "cell_type": "markdown",
   "id": "40460e35-72b7-4d63-85c0-e562ba0761fa",
   "metadata": {},
   "source": [
    "10. Retrieve method information from the AnIML document:"
   ]
  },
  {
   "cell_type": "code",
   "execution_count": null,
   "id": "9e02ae6b-7728-4784-977f-399c4618e8b7",
   "metadata": {},
   "outputs": [],
   "source": [
    "animl_method = animl_doc.experiment_step_set.experiment_steps[0].method"
   ]
  },
  {
   "cell_type": "code",
   "execution_count": null,
   "id": "acd20313-fb0e-48c7-a270-9a2af68786dd",
   "metadata": {},
   "outputs": [],
   "source": [
    "instrument_from_animl = animl_method.methods[2]"
   ]
  },
  {
   "cell_type": "code",
   "execution_count": null,
   "id": "bab233d8-29c3-4499-9c35-9c6ca8669c37",
   "metadata": {},
   "outputs": [],
   "source": [
    "software_from_animl = [animl_method.methods[3], animl_method.methods[4]]"
   ]
  },
  {
   "cell_type": "markdown",
   "id": "ee4361d0-c0cd-4d39-90b3-afaed7bd24de",
   "metadata": {},
   "source": [
    "11. Add instrument information to the process metadata block object:"
   ]
  },
  {
   "cell_type": "code",
   "execution_count": null,
   "id": "b5297b16-bf0b-474c-8bc9-175a39d0ad10",
   "metadata": {},
   "outputs": [],
   "source": [
    "process_block.add_instruments(\n",
    "    name=instrument_from_animl.name,\n",
    "    version=instrument_from_animl.firmware_version,\n",
    "    serial_number=[instrument_from_animl.serial_number],\n",
    "    software=\"SAXSQuant\",\n",
    "    location=\"University of Stuttgart, Institute of Physical Chemistry\",\n",
    ")"
   ]
  },
  {
   "cell_type": "markdown",
   "id": "d92e38f3-7335-44f5-b830-9f41ab6b7095",
   "metadata": {},
   "source": [
    "12. Add software information to the process metadata block object:"
   ]
  },
  {
   "cell_type": "code",
   "execution_count": null,
   "id": "cc63cd8d-0b0e-47b9-ab32-d4239e6dc95c",
   "metadata": {},
   "outputs": [],
   "source": [
    "process_block.add_software(\n",
    "    name=software_from_animl[0].name,\n",
    "    version=software_from_animl[0].version,\n",
    "    citation=\"DOI:10.3233/978-1-61499-649-1-87\",\n",
    "    url=\"https://jupyter.org/\",\n",
    "    license=\"BSD-3-Clause\"\n",
    ")"
   ]
  },
  {
   "cell_type": "code",
   "execution_count": null,
   "id": "92228469-9e2e-4ca0-8dc2-a4a50f19bf0d",
   "metadata": {},
   "outputs": [],
   "source": [
    "process_block.add_software(\n",
    "    name=software_from_animl[1].name,\n",
    "    version=software_from_animl[1].version,\n",
    "    url=\"https://www.originlab.com/index.aspx?go=Products/Origin\",\n",
    "    license=\"Commercial\"\n",
    ")"
   ]
  },
  {
   "cell_type": "markdown",
   "id": "4e455da1-dfe3-469b-ad27-efc310eac33d",
   "metadata": {},
   "source": [
    "13. State data generation types implemented in this work:"
   ]
  },
  {
   "cell_type": "code",
   "execution_count": null,
   "id": "b52e0278-3929-4233-88a3-25fffb79a6d0",
   "metadata": {},
   "outputs": [],
   "source": [
    "engineering_block.data_generation = [DataGeneration.experiment.value, DataGeneration.analysis.value]"
   ]
  },
  {
   "cell_type": "markdown",
   "id": "d80d754e-1718-4f77-a7ab-450d4ef679e3",
   "metadata": {},
   "source": [
    "14. Add information about variables measured to the engineering metadata block object:"
   ]
  },
  {
   "cell_type": "code",
   "execution_count": null,
   "id": "c125f962-edf5-4332-8ae1-35df510c5c6c",
   "metadata": {},
   "outputs": [],
   "source": [
    "engineering_block.add_measured_variables(\n",
    "    name=parameter_names[\"q\"],\n",
    "    symbol=\"q\",\n",
    "    unit=parameter_units[\"q\"]\n",
    ")"
   ]
  },
  {
   "cell_type": "code",
   "execution_count": null,
   "id": "b00e1e6d-d257-4d3a-b595-c7c17aa7a4c3",
   "metadata": {},
   "outputs": [],
   "source": [
    "engineering_block.add_measured_variables(\n",
    "    name=parameter_names[\"I\"],\n",
    "    symbol=\"I\",\n",
    "    unit=parameter_units[\"I\"]\n",
    ")"
   ]
  },
  {
   "cell_type": "markdown",
   "id": "d61f5d9c-7d81-4f0c-a54d-f4cd88f4e1ff",
   "metadata": {},
   "source": [
    "15. Add information about variables controlled to the object:"
   ]
  },
  {
   "cell_type": "code",
   "execution_count": null,
   "id": "2161e1a0-8ee3-43a9-ad7d-a9077208a2e6",
   "metadata": {},
   "outputs": [],
   "source": [
    "engineering_block.add_controlled_variables(\n",
    "    name=parameter_names[\"T\"],\n",
    "    symbol=\"T\",\n",
    "    unit=parameter_units[\"T\"],\n",
    "    minimum_value=0,\n",
    "    maximum_value=100\n",
    ")"
   ]
  },
  {
   "cell_type": "code",
   "execution_count": null,
   "id": "7b90a38f-c951-4481-ade0-4b29d04d28c8",
   "metadata": {},
   "outputs": [],
   "source": [
    "engineering_block.add_controlled_variables(\n",
    "    name=parameter_names[\"w\"],\n",
    "    symbol=\"w\",\n",
    "    unit=parameter_units[\"w\"],\n",
    "    minimum_value=10.0,\n",
    "    maximum_value=100.0\n",
    ")"
   ]
  },
  {
   "cell_type": "markdown",
   "id": "f31faecc-bb18-47b9-81cb-63499195bfa0",
   "metadata": {},
   "source": [
    "16. Create the DaRUS dataset object and add the different block objects to it:"
   ]
  },
  {
   "cell_type": "code",
   "execution_count": null,
   "id": "69ff963d-ba0b-4ded-a9ef-0d598657b24f",
   "metadata": {},
   "outputs": [],
   "source": [
    "dataset.add_metadatablock(citation_block)\n",
    "dataset.add_metadatablock(process_block)\n",
    "dataset.add_metadatablock(engineering_block)"
   ]
  },
  {
   "cell_type": "markdown",
   "id": "51578498-b739-459a-a9e7-aec5781c0f18",
   "metadata": {},
   "source": [
    "#### **Packing files to OMEX or ZIP** <a class=\"anchor\" name=\"packing\"></a>\n",
    "\n",
    "In this section, the COMBINE archive is packed following the OMEX standard. The file extension of this archive can be chosen freely."
   ]
  },
  {
   "cell_type": "markdown",
   "id": "0a43933b-22bf-4151-a22f-2e3184bc7414",
   "metadata": {},
   "source": [
    "1. Create the archive object and VCard objects:"
   ]
  },
  {
   "cell_type": "code",
   "execution_count": null,
   "id": "d456ee60-3018-4a0e-94d4-a1162962f612",
   "metadata": {},
   "outputs": [],
   "source": [
    "archive = CombineArchive()"
   ]
  },
  {
   "cell_type": "code",
   "execution_count": null,
   "id": "2040cfce-daf0-47f1-9858-06040d394c5c",
   "metadata": {},
   "outputs": [],
   "source": [
    "list_of_VCards = []\n",
    "for creator in citation_block.author:\n",
    "    new_VCard = VCard()\n",
    "    new_VCard.family_name = creator.name.split(\", \")[0]\n",
    "    new_VCard.given_name = creator.name.split(\", \")[1]\n",
    "    new_VCard.organization = creator.affiliation\n",
    "    list_of_VCards.append(new_VCard)"
   ]
  },
  {
   "cell_type": "markdown",
   "id": "ecad031f-e460-4e70-9843-db1f520d9f35",
   "metadata": {},
   "source": [
    "2. If AnIML and/or PDH formats are not already known, add them to the known formats:"
   ]
  },
  {
   "cell_type": "code",
   "execution_count": null,
   "id": "5238a925-334d-4291-a622-b1b58486c147",
   "metadata": {},
   "outputs": [],
   "source": [
    "if KnownFormats.lookupFormat(\"animl\") == \"\":\n",
    "    KnownFormats.addKnownFormat(\n",
    "        \"animl\", \"http://purl.org/NET/mediatypes/application/x.animl\"\n",
    "    )\n",
    "if KnownFormats.lookupFormat(\"pdh\") == \"\":\n",
    "    KnownFormats.addKnownFormat(\n",
    "        \"pdh\", \"http://purl.org/NET/mediatypes/application/x.pdh\"\n",
    "    )"
   ]
  },
  {
   "cell_type": "markdown",
   "id": "7b85910b-0393-446a-ad99-b33504acb9b6",
   "metadata": {},
   "source": [
    "3. Add the AnIML document to the archive object:"
   ]
  },
  {
   "cell_type": "code",
   "execution_count": null,
   "id": "abd90a04-b291-41e9-90c1-744120ff4006",
   "metadata": {},
   "outputs": [],
   "source": [
    "local_path = str(path_to_AnIML_file)\n",
    "archive_path = f\"./{str(path_to_AnIML_file.name)}\"\n",
    "format_check = KnownFormats.lookupFormat(\"animl\")\n",
    "is_master = True"
   ]
  },
  {
   "cell_type": "code",
   "execution_count": null,
   "id": "4e7e6157-f6f7-430e-88bc-5fd47e0a31c2",
   "metadata": {},
   "outputs": [],
   "source": [
    "_void = archive.addFile(local_path, archive_path, format_check, is_master)\n",
    "del _void"
   ]
  },
  {
   "cell_type": "markdown",
   "id": "3c90bf03-9e22-4ef6-9ff9-a37422207467",
   "metadata": {},
   "source": [
    "4. Create the metadata description object:"
   ]
  },
  {
   "cell_type": "code",
   "execution_count": null,
   "id": "7811b892-0bc7-45e6-a580-1c58f3905ab6",
   "metadata": {},
   "outputs": [],
   "source": [
    "description = OmexDescription()"
   ]
  },
  {
   "cell_type": "markdown",
   "id": "25419469-7d87-42f7-adb4-3e6c9b4ebf2c",
   "metadata": {},
   "source": [
    "5. Declare the file the description points to:"
   ]
  },
  {
   "cell_type": "code",
   "execution_count": null,
   "id": "4f90d1b9-4975-4c08-a12d-6d44c83fda5e",
   "metadata": {},
   "outputs": [],
   "source": [
    "description.setAbout(archive_path)"
   ]
  },
  {
   "cell_type": "markdown",
   "id": "69fd73f9-3908-498f-bce8-d9af7277fc1a",
   "metadata": {},
   "source": [
    "6. Provide a small description string:"
   ]
  },
  {
   "cell_type": "code",
   "execution_count": null,
   "id": "2d2fe049-4bc2-40f3-b4bc-a5b6fa53a332",
   "metadata": {},
   "outputs": [],
   "source": [
    "description.setDescription(f\"The AnIML document with the SI for '{citation_block.title}'.\")"
   ]
  },
  {
   "cell_type": "markdown",
   "id": "a5f39cd5-8e23-485f-9363-01e5161bf965",
   "metadata": {},
   "source": [
    "7. Provide date and time:"
   ]
  },
  {
   "cell_type": "code",
   "execution_count": null,
   "id": "8424899f-33b7-4cf4-865a-1b912f9412ca",
   "metadata": {},
   "outputs": [],
   "source": [
    "description.setCreated(OmexDescription.getCurrentDateAndTime())"
   ]
  },
  {
   "cell_type": "markdown",
   "id": "7c80560e-b2af-413f-b4f4-a426a0f7484f",
   "metadata": {},
   "source": [
    "8. Add the authors:"
   ]
  },
  {
   "cell_type": "code",
   "execution_count": null,
   "id": "937d1358-42fa-4ab5-a837-f6099d3846d7",
   "metadata": {},
   "outputs": [],
   "source": [
    "for creator in list_of_VCards:\n",
    "    description.addCreator(creator)"
   ]
  },
  {
   "cell_type": "markdown",
   "id": "35bd5e36-f8a5-46f8-a9a7-8f0c701f7586",
   "metadata": {},
   "source": [
    "9. Add the finished description object to the archive object:"
   ]
  },
  {
   "cell_type": "code",
   "execution_count": null,
   "id": "dfd12ac4-7374-4c09-804b-132350cad66b",
   "metadata": {},
   "outputs": [],
   "source": [
    "_void = archive.addMetadata(archive_path, description)\n",
    "del _void"
   ]
  },
  {
   "cell_type": "markdown",
   "id": "c0452229-9455-4988-b7e1-762b95d9c0a4",
   "metadata": {},
   "source": [
    "10. Optional: Add any desired additional files to the archive:"
   ]
  },
  {
   "cell_type": "markdown",
   "id": "d7aa5a1b-7afd-482c-8f4d-8cce4a82fdbd",
   "metadata": {},
   "source": [
    "- Add PDH files to the archive in the same manner as the AnIML document, but providing the `False` value for the `is_master` field:"
   ]
  },
  {
   "cell_type": "code",
   "execution_count": null,
   "id": "c37efd65-3c46-4860-984a-7ea962dbafc6",
   "metadata": {},
   "outputs": [],
   "source": [
    "for pdh_file in (path_to_datasets / \"raw/\").rglob(\"*.pdh\"):\n",
    "    if pdh_file.match(\"*/.ipynb_checkpoints/*\"):\n",
    "        continue\n",
    "    # add file to archive\n",
    "    local_path = str(pdh_file)\n",
    "    archive_path = f\"{pdh_file.relative_to(path_to_datasets).parent}/{str(pdh_file.name)}\"\n",
    "    format_check = KnownFormats.lookupFormat(\"pdh\")\n",
    "    is_master = False\n",
    "    _void = archive.addFile(local_path, archive_path, format_check, is_master)\n",
    "    del _void\n",
    "    \n",
    "    # add description for file\n",
    "    description = OmexDescription()\n",
    "    description.setAbout(archive_path)\n",
    "    description.setDescription(\"Anton Paar SAXess mc^2 PDH file containing raw SAXS measurement data.\")\n",
    "    description.setCreated(OmexDescription.getCurrentDateAndTime())\n",
    "    for creator in list_of_VCards:\n",
    "        description.addCreator(creator)\n",
    "    _void = archive.addMetadata(archive_path, description)\n",
    "    del _void"
   ]
  },
  {
   "cell_type": "markdown",
   "id": "dd2259ec-052f-4b02-b111-3a1683247442",
   "metadata": {},
   "source": [
    "- Add TSV files to the archive:"
   ]
  },
  {
   "cell_type": "code",
   "execution_count": null,
   "id": "7e3eaf1f-6e10-4aa0-b933-5b8fde98be65",
   "metadata": {},
   "outputs": [],
   "source": [
    "for tsv_file in (path_to_datasets / \"processed/\").rglob(\"*.tsv\"):\n",
    "    if tsv_file.match(\"*/.ipynb_checkpoints/*\"):\n",
    "        continue\n",
    "    # add file to archive\n",
    "    local_path = str(tsv_file)\n",
    "    archive_path = f\"{tsv_file.relative_to(path_to_datasets).parent}/{str(tsv_file.name)}\"\n",
    "    format_check = KnownFormats.lookupFormat(\"tsv\")\n",
    "    is_master = False\n",
    "    _void = archive.addFile(local_path, archive_path, format_check, is_master)\n",
    "    del _void\n",
    "    \n",
    "    # add description for file\n",
    "    description = OmexDescription()\n",
    "    description.setAbout(archive_path)\n",
    "    description.setDescription(\"TSV file containing the results of the SAXS analysis.\")\n",
    "    description.setCreated(OmexDescription.getCurrentDateAndTime())\n",
    "    for creator in list_of_VCards:\n",
    "        description.addCreator(creator)\n",
    "    _void = archive.addMetadata(archive_path, description)\n",
    "    del _void"
   ]
  },
  {
   "cell_type": "markdown",
   "id": "81b0fb0e-dd5e-417c-a65a-d10918ced210",
   "metadata": {},
   "source": [
    "- Add PNG files to the archive:"
   ]
  },
  {
   "cell_type": "code",
   "execution_count": null,
   "id": "00383347-c81b-4115-9b73-06f73986bd92",
   "metadata": {},
   "outputs": [],
   "source": [
    "for png_file in (path_to_datasets / \"processed/\").rglob(\"*.png\"):\n",
    "    if png_file.match(\"*/.ipynb_checkpoints/*\"):\n",
    "        continue\n",
    "    # add file to archive\n",
    "    local_path = str(png_file)\n",
    "    archive_path = f\"{png_file.relative_to(path_to_datasets).parent}/{str(png_file.name)}\"\n",
    "    format_check = KnownFormats.lookupFormat(\"png\")\n",
    "    is_master = False\n",
    "    _void = archive.addFile(local_path, archive_path, format_check, is_master)\n",
    "    del _void\n",
    "    \n",
    "    # add description for file\n",
    "    description = OmexDescription()\n",
    "    description.setAbout(archive_path)\n",
    "    description.setDescription(\"PNG file containing the results of the SAXS visualization.\")\n",
    "    description.setCreated(OmexDescription.getCurrentDateAndTime())\n",
    "    for creator in list_of_VCards:\n",
    "        description.addCreator(creator)\n",
    "    _void = archive.addMetadata(archive_path, description)\n",
    "    del _void"
   ]
  },
  {
   "cell_type": "markdown",
   "id": "a1dd7b2c-c23e-4199-b0ee-e45f2c6fa3a1",
   "metadata": {},
   "source": [
    "11. Serialize the archive object to OMEX or ZIP format:"
   ]
  },
  {
   "cell_type": "code",
   "execution_count": null,
   "id": "665aa5dc-f587-4a64-937f-4e6196a7e6df",
   "metadata": {},
   "outputs": [],
   "source": [
    "_void = archive.writeToFile(str(path_to_datasets / f\"processed/fairsaxs_220512.zip\"))\n",
    "del _void"
   ]
  },
  {
   "cell_type": "markdown",
   "id": "9eafce5b-f05a-4f25-9ca6-101b2751eb34",
   "metadata": {},
   "source": [
    "#### **Upload to DaRUS** <a class=\"anchor\" name=\"upload\"></a>\n",
    "\n",
    "The upload of a draft to a DaRUS repository requires an API token with appropriate permissions. The URL of the Dataverse, as well as the API token are inferred from the environment variables."
   ]
  },
  {
   "cell_type": "markdown",
   "id": "31154d46-872f-4d12-9e09-4ec132811fa4",
   "metadata": {},
   "source": [
    "1. Add unpacked archive to dataset object for upload to DaRUS:"
   ]
  },
  {
   "cell_type": "code",
   "execution_count": null,
   "id": "0b6d6304-8a0b-4cd0-b7bf-14d5b666af59",
   "metadata": {},
   "outputs": [],
   "source": [
    "dataset.add_file(dv_path=\"fairsaxs_220502.zip\", local_path=str(path_to_datasets / \"processed/fairsaxs_220502.zip\"))"
   ]
  },
  {
   "cell_type": "markdown",
   "id": "9f095854-fdae-4399-befb-3ce5cd13c456",
   "metadata": {},
   "source": [
    "2. Upload to DaRUS by stating the target repository and the file or directory to be uploaded and print the resulting DOI:"
   ]
  },
  {
   "cell_type": "code",
   "execution_count": null,
   "id": "ec24df07-5bc5-4fdf-95e7-baadaa235a30",
   "metadata": {},
   "outputs": [],
   "source": [
    "p_id = dataset.upload(\"sfb1333-giesselmann-bruckner\")\n",
    "print(p_id)"
   ]
  },
  {
   "cell_type": "markdown",
   "id": "ec58d00e-2bc0-4bb7-95d6-8d53b28d918e",
   "metadata": {},
   "source": [
    "#### **Download from DaRUS** <a class=\"anchor\" name=\"download\"></a>\n",
    "\n",
    "Any DaRUS dataset with its file contents can be downloaded, viewed, and modified here, given that an **API token with the necessary permissions**, as well as the **URL to the base Dataverse installation** are provided in the **environment variables**! Alternatively, uncomment lines and provide them below instead:"
   ]
  },
  {
   "cell_type": "code",
   "execution_count": null,
   "id": "941a9fe3",
   "metadata": {},
   "outputs": [],
   "source": [
    "# os.environ[\"DATAVERSE_API_TOKEN\"] = \"\"\n",
    "# os.environ[\"DATAVERSE_URL\"] = \"https://darus.uni-stuttgart.de/\""
   ]
  },
  {
   "cell_type": "markdown",
   "id": "fc109f66-c262-4bb1-9b96-fd37a3c08cc7",
   "metadata": {},
   "source": [
    "Download a dataset by giving the DOI and stating a directory to which available files are to be downloaded to:"
   ]
  },
  {
   "cell_type": "code",
   "execution_count": null,
   "id": "3035c300-8d55-4462-89b6-352d706bc75c",
   "metadata": {},
   "outputs": [],
   "source": [
    "darus_dataset = \"doi:10.18419/darus-2842\""
   ]
  },
  {
   "cell_type": "code",
   "execution_count": null,
   "id": "ebc304c4-36ea-4849-aad3-ce2758843bc2",
   "metadata": {},
   "outputs": [],
   "source": [
    "dataset = Dataset.from_dataverse_doi(doi=darus_dataset, filedir=str(path_to_datasets / \"download/\"))"
   ]
  },
  {
   "cell_type": "markdown",
   "id": "39988693",
   "metadata": {},
   "source": [
    "Optionally, delete one or more metadata blocks present to completely re-do them using the code provided in [Metadata extraction from AnIML document](#extraction):"
   ]
  },
  {
   "cell_type": "code",
   "execution_count": null,
   "id": "8874306b-498f-4b9b-9e4d-f7b65c1382c1",
   "metadata": {},
   "outputs": [],
   "source": [
    "del(dataset.citation, dataset.engMeta, dataset.process)"
   ]
  },
  {
   "cell_type": "markdown",
   "id": "06f5cd4f-f470-4227-97ce-5f306994d86d",
   "metadata": {},
   "source": [
    "#### **Edit DaRUS datasets** <a class=\"anchor\" name=\"edit\"></a>\n",
    "\n",
    "Downloaded datasets can be fully edited and re-uploaded in this optional section, as well as the sections before. As an example, an additional file is added to the dataset from before. Both the desired path within the directory structure of the DaRUS dataset, as well as the path to the file on the local file system are required."
   ]
  },
  {
   "cell_type": "markdown",
   "id": "2d1800d8-5f94-4f53-b1b5-8c88b37be7d9",
   "metadata": {},
   "source": [
    "1. After downloading a dataset, make changes as seen fit:"
   ]
  },
  {
   "cell_type": "code",
   "execution_count": null,
   "id": "acc582de-7c8a-4776-b9cd-135f4d52c48d",
   "metadata": {},
   "outputs": [],
   "source": [
    "dataset.p_id = darus_dataset"
   ]
  },
  {
   "cell_type": "code",
   "execution_count": null,
   "id": "0f9f5695-ea3c-4830-93ae-31c5ebe7b390",
   "metadata": {},
   "outputs": [],
   "source": [
    "dataset.add_file(dv_path=\"fairsaxs_220512.zip\", local_path=str(path_to_datasets / \"processed/fairsaxs_220512.zip\"))"
   ]
  },
  {
   "cell_type": "markdown",
   "id": "bb40dd77-ef00-4dfe-b0cc-5e017c87b4aa",
   "metadata": {},
   "source": [
    "2. Use the update function to push changes to DaRUS. Due to the requirements of the Dataverse API, contact information are required again for each update made. If the contact does not exist within the DaRUS dataset yet, it will be added to it:"
   ]
  },
  {
   "cell_type": "code",
   "execution_count": null,
   "id": "4d30b930-6ebf-4c10-9e8d-14a5184aa5af",
   "metadata": {},
   "outputs": [],
   "source": [
    "dataset.update(contact_name=\"Pleiss, Juergen\", contact_mail=\"juergen.pleiss@itb.uni-stuttgart.de\")"
   ]
  },
  {
   "cell_type": "markdown",
   "id": "5c91b92b-c2a6-47e8-9a19-88061201e0d7",
   "metadata": {},
   "source": [
    "---\n",
    "\n",
    "### **Disclosure** <a class=\"anchor\" name=\"disclosure\"></a>\n",
    "\n",
    "**Contributions**\n",
    "\n",
    "If you wish to contribute to the FAIR Chemistry project, find us on [GitHub](https://github.com/FAIRChemistry)!\n",
    "\n",
    "**MIT License**\n",
    "\n",
    "Copyright (c) 2022 FAIR Chemistry\n",
    "\n",
    "Permission is hereby granted, free of charge, to any person obtaining a copy\n",
    "of this software and associated documentation files (the \"Software\"), to deal\n",
    "in the Software without restriction, including without limitation the rights\n",
    "to use, copy, modify, merge, publish, distribute, sublicense, and/or sell\n",
    "copies of the Software, and to permit persons to whom the Software is\n",
    "furnished to do so, subject to the following conditions:\n",
    "\n",
    "The above copyright notice and this permission notice shall be included in all\n",
    "copies or substantial portions of the Software.\n",
    "\n",
    "THE SOFTWARE IS PROVIDED \"AS IS\", WITHOUT WARRANTY OF ANY KIND, EXPRESS OR\n",
    "IMPLIED, INCLUDING BUT NOT LIMITED TO THE WARRANTIES OF MERCHANTABILITY,\n",
    "FITNESS FOR A PARTICULAR PURPOSE AND NONINFRINGEMENT. IN NO EVENT SHALL THE\n",
    "AUTHORS OR COPYRIGHT HOLDERS BE LIABLE FOR ANY CLAIM, DAMAGES OR OTHER\n",
    "LIABILITY, WHETHER IN AN ACTION OF CONTRACT, TORT OR OTHERWISE, ARISING FROM,\n",
    "OUT OF OR IN CONNECTION WITH THE SOFTWARE OR THE USE OR OTHER DEALINGS IN THE\n",
    "SOFTWARE."
   ]
  },
  {
   "cell_type": "code",
   "execution_count": null,
   "id": "05bd69f6-424a-45f2-95fa-c7d75bef1a1e",
   "metadata": {},
   "outputs": [],
   "source": []
  }
 ],
 "metadata": {
  "kernelspec": {
   "display_name": "Python [conda env:fairsaxs]",
   "language": "python",
   "name": "conda-env-fairsaxs-py"
  },
  "language_info": {
   "codemirror_mode": {
    "name": "ipython",
    "version": 3
   },
   "file_extension": ".py",
   "mimetype": "text/x-python",
   "name": "python",
   "nbconvert_exporter": "python",
   "pygments_lexer": "ipython3",
   "version": "3.10.4"
  }
 },
 "nbformat": 4,
 "nbformat_minor": 5
}
