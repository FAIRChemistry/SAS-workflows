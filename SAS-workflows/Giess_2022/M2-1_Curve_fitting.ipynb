{
 "cells": [
  {
   "cell_type": "markdown",
   "id": "d482f382-9096-427e-ac26-6d12b651a6e8",
   "metadata": {},
   "source": [
    "# FAIR and scalable management of small-angle X-ray scattering data  \n",
    "## Module 2: Curve fitting, analysis, and visualization \n",
    "### 2.1: Curve fitting with SAS-tools\n",
    "\n",
    "> Authors: Richard Schoemig, Torsten Giess  \n",
    "> Last modified: 30.12.2022\n",
    "\n",
    "---"
   ]
  },
  {
   "cell_type": "markdown",
   "id": "82c25029-b2d9-42cf-b9fa-cb9b161eed89",
   "metadata": {},
   "source": [
    "### **Abstract** <a class=\"anchor\" name=\"abstract\"></a>\n",
    "\n",
    "Using novel packages [sastools](https://github.com/FAIRChemistry/SAS-tools) (version 1.0.1) and [pyAnIML](https://github.com/FAIRChemistry/pyAnIML) (version 1.0.0), as well as packages from the Python 3 standard libary, this notebook provides an integrated fitting tool based on the python packages lmfit and signal.\n",
    "\n",
    "---"
   ]
  },
  {
   "cell_type": "markdown",
   "id": "08bca00d-8a2b-4903-a156-274f5680737e",
   "metadata": {},
   "source": [
    "### **Table of Contents** <a class=\"anchor\" name=\"table_of_contents\"></a>\n",
    "\n",
    "- [Abstract](#abstract)\n",
    "- [Workflow](#workflow)\n",
    "    - [User guide](#user_guide)\n",
    "    - [Preparation](#preparation)\n",
    "    - [Lorentzian fit with Origin](#origin)\n",
    "- [Disclosure](#disclosure)\n",
    "\n",
    "---"
   ]
  },
  {
   "cell_type": "markdown",
   "id": "d3a14dc3-3457-4d4c-9827-bde70a38926e",
   "metadata": {},
   "source": [
    "### **Workflow** <a class=\"anchor\" name=\"workflow\"></a>\n",
    "\n",
    "Following is the workflow for Module 3.1: Lorentzian fit with Origin of FAIR and scalable management of small-angle X-ray scattering data."
   ]
  },
  {
   "cell_type": "markdown",
   "id": "4ac5ea60-fb8b-4d11-9d42-981e4d7c1e9e",
   "metadata": {},
   "source": [
    "#### **User guide** <a class=\"anchor\" name=\"user_guide\"></a>\n",
    "\n",
    "This notebook can be used to create TSV files from data(sets) stored in the AnIML file and export them to external software for further analyses inlcuding Lorentzian fits of diffraction maxima."
   ]
  },
  {
   "cell_type": "markdown",
   "id": "778d2b3b-b837-47dc-bd46-1e718ae867ed",
   "metadata": {},
   "source": [
    "#### **Preparation** <a class=\"anchor\" name=\"preparation\"></a>\n",
    "\n",
    "This section contains the necessary preparations for using this module. Code cells in this section are required regardless of which functionality of this notebook is used. First, the required packages from the [Python 3 standard library](https://docs.python.org/3/library/), the Python Package Index ([PyPI](https://pypi.org/)), and *ad hoc* modules of this work are imported. Then, both current time and path are retrieved and stored in the desired formats."
   ]
  },
  {
   "cell_type": "code",
   "execution_count": null,
   "id": "3030bb86-729f-4729-8ff7-e412b0f6e849",
   "metadata": {},
   "outputs": [],
   "source": [
    "print(\"Importing standard library packages.\")\n",
    "from datetime import date\n",
    "from pathlib import Path\n",
    "import numpy as np\n",
    "print (\"Done.\")"
   ]
  },
  {
   "cell_type": "code",
   "execution_count": null,
   "id": "40310912-809a-4a64-8440-19e1dcad5eeb",
   "metadata": {},
   "outputs": [],
   "source": [
    "print(\"Importing PyPI packages.\")\n",
    "from pyaniml import AnIMLDocument\n",
    "from sastools.analyzer import CurveFitting\n",
    "from sastools.readers import SeriesReader\n",
    "print (\"Done.\")"
   ]
  },
  {
   "cell_type": "code",
   "execution_count": null,
   "id": "b6867753-1a79-4f4b-8c3f-b053ce4ab7b3",
   "metadata": {},
   "outputs": [],
   "source": [
    "date_suffix = str(date.today()).replace(\"-\", \"\")[2:]"
   ]
  },
  {
   "cell_type": "code",
   "execution_count": null,
   "id": "18d69ade-5b4c-45e2-9e6b-9247f4d61b7d",
   "metadata": {},
   "outputs": [],
   "source": [
    "cwd = Path.cwd()\n",
    "path_to_datasets = cwd / \"./datasets/\"\n",
    "print(cwd)\n",
    "print(path_to_datasets)"
   ]
  },
  {
   "cell_type": "markdown",
   "id": "868e3989-4b93-4504-a569-9b30b95f5ba6",
   "metadata": {},
   "source": [
    "---\n",
    "\n",
    "#### **Lorentzian fit with the internal peak fitting tool from sastools** <a class=\"anchor\" name=\"origin\"></a>\n",
    "\n",
    "Extract data from the AnIML file and store it in a Pandas dataframe."
   ]
  },
  {
   "cell_type": "code",
   "execution_count": null,
   "id": "7e24838e-39e3-4814-8689-8e1270da46a7",
   "metadata": {},
   "outputs": [],
   "source": [
    "path_to_AnIML_file = path_to_datasets / f\"processed/fairsaxs_220512.animl\""
   ]
  },
  {
   "cell_type": "code",
   "execution_count": null,
   "id": "2cd3724b-78a2-47cc-899e-1a119e72f6c9",
   "metadata": {},
   "outputs": [],
   "source": [
    "with path_to_AnIML_file.open(\"r\") as f:\n",
    "    xml_string = f.read()\n",
    "    animl_doc = AnIMLDocument.fromXMLString(xml_string)"
   ]
  },
  {
   "cell_type": "code",
   "execution_count": null,
   "id": "6b4468eb-0354-4756-925a-4bdb6312d67f",
   "metadata": {},
   "outputs": [],
   "source": [
    "reader = SeriesReader(animl_doc)"
   ]
  },
  {
   "cell_type": "markdown",
   "id": "d6628f7d",
   "metadata": {},
   "source": [
    "List all available files."
   ]
  },
  {
   "cell_type": "code",
   "execution_count": null,
   "id": "511c6b46-6fb8-4ab5-9eac-472fb2d46b75",
   "metadata": {},
   "outputs": [],
   "source": [
    "list_of_IDs = reader.available_seriesIDs\n",
    "for index, series_ID in enumerate(list_of_IDs):\n",
    "    print(index, series_ID)"
   ]
  },
  {
   "cell_type": "markdown",
   "id": "4a555fb8",
   "metadata": {},
   "source": [
    "Select single file by ID (number according to listing above, starts at 0)"
   ]
  },
  {
   "cell_type": "code",
   "execution_count": null,
   "id": "147d4764-6002-4310-a702-c49187014286",
   "metadata": {},
   "outputs": [],
   "source": [
    "reader.selected_seriesIDs = [list_of_IDs[0]]\n",
    "dataframe = reader.create_dataframe()\n",
    "print(dataframe)"
   ]
  },
  {
   "cell_type": "markdown",
   "id": "9aff269d",
   "metadata": {},
   "source": [
    "Define file name and print whether 'OTAB', 'OTAC' or 'CholPal' is selected."
   ]
  },
  {
   "cell_type": "code",
   "execution_count": null,
   "id": "b9af7133",
   "metadata": {},
   "outputs": [],
   "source": [
    "file_name = reader.selected_seriesIDs[0]\n",
    "if 'OTAB' in file_name:\n",
    "    compound = 'OTAB'\n",
    "    print(compound, 'is selected')\n",
    "elif 'OTAC' in file_name:\n",
    "    compound = 'OTAC'\n",
    "    print(compound, 'is selected')\n",
    "else:\n",
    "    compound = 'CholPal'\n",
    "    print('CholPal is selected')"
   ]
  },
  {
   "cell_type": "markdown",
   "id": "8acf482e",
   "metadata": {},
   "source": [
    "Define path for output directory. For the standard 'CholPal' one has to specify manually whether the ouput is stored under 'OTAC' or 'OTAB'."
   ]
  },
  {
   "cell_type": "code",
   "execution_count": null,
   "id": "b0db63c4",
   "metadata": {},
   "outputs": [],
   "source": [
    "directory_for_cholpal = 'OTAB' # 'OTAC'\n",
    "if compound != 'CholPal':\n",
    "    path_to_sastools_curvefitting = path_to_datasets / f'./raw/{compound}_measurement_data/Lorentzian_fitting_data/sastools_curvefitting/'\n",
    "    path_to_plots = path_to_sastools_curvefitting / './plots/'\n",
    "    path_to_fitting_data = path_to_sastools_curvefitting / './fitting_data/'\n",
    "else:\n",
    "    path_to_sastools_curvefitting = path_to_datasets / f'./raw/{directory_for_cholpal}_measurement_data/Lorentzian_fitting_data/sastools_curvefitting/'\n",
    "    path_to_plots = path_to_sastools_curvefitting / './plots/'\n",
    "    path_to_fitting_data = path_to_sastools_curvefitting / './fitting_data/'"
   ]
  },
  {
   "cell_type": "markdown",
   "id": "e6961c98",
   "metadata": {},
   "source": [
    "Create an instance of the class 'CurveFitting' and pass the data to be fitted, the name of the file containing the original data, and the paths to the directories where the output should be stored."
   ]
  },
  {
   "cell_type": "code",
   "execution_count": null,
   "id": "b003ffef-a092-4f28-a1eb-ac35082c9464",
   "metadata": {},
   "outputs": [],
   "source": [
    "curvefitting = CurveFitting(\n",
    "    dataframe,                \n",
    "    file_name,\n",
    "    path_to_plots,\n",
    "    path_to_fitting_data\n",
    ")"
   ]
  },
  {
   "cell_type": "markdown",
   "id": "43f4464c",
   "metadata": {},
   "source": [
    "Plotting the raw data."
   ]
  },
  {
   "cell_type": "code",
   "execution_count": null,
   "id": "9979ebe1",
   "metadata": {},
   "outputs": [],
   "source": [
    "curvefitting.plot_raw_data()"
   ]
  },
  {
   "cell_type": "markdown",
   "id": "d5014c0f",
   "metadata": {},
   "source": [
    "Performing the peak finding algorithm and plot the positions of the peaks found."
   ]
  },
  {
   "cell_type": "code",
   "execution_count": null,
   "id": "4e829cce",
   "metadata": {},
   "outputs": [],
   "source": [
    "curvefitting.find_peaks_cwt(                        \n",
    "    peak_widths= np.arange(0.5, 10.),             \n",
    "    cutoff_amplitude=0.3           \n",
    ")\n",
    "curvefitting.plot_found_peak()"
   ]
  },
  {
   "cell_type": "markdown",
   "id": "c114d047",
   "metadata": {},
   "source": [
    "Automatically setting up the specifications for the fitting algorithm. Parameters are as follows:\n",
    "- model_type: The type of model ('GaussianModel', 'LorentzianModel' or 'VoigtModel')\n",
    "- tolerance: Tolerated variance of the peak location between model parameters given by the automatic_peak_finding and the final fit parameters (default is 0.5)"
   ]
  },
  {
   "cell_type": "code",
   "execution_count": null,
   "id": "da54fb4f",
   "metadata": {},
   "outputs": [],
   "source": [
    "curvefitting.set_specifications_automatically(\n",
    "    model_type = 'LorentzianModel',\n",
    "    tolerance = 0.5\n",
    ")"
   ]
  },
  {
   "cell_type": "markdown",
   "id": "9b0afadd",
   "metadata": {},
   "source": [
    "Alternative way: Manually setting up the parameters for the fitting algorithm. Parameters are as following:\n",
    "- number_of_models: Number of models used in the fitting algorithm\n",
    "- model_specifications: List of specifications for every single model to be used for fitting. Every single list element represents a model. Unlike for the automatically set specifications, different model types can be mixed (See model type)! Number_of_models parameter has to match with the actual number of models provided in the input. For every model the following parameters have to be specified:\n",
    "    - model type: type of model to be used for the fitting algorithm\n",
    "    - list of model parameters: center, amplitude, sigma (see also https://lmfit.github.io/lmfit-py/builtin_models.html)\n",
    "    - list of restriction parameters (optional, but recommended): lower and upper bound of center parameter\n"
   ]
  },
  {
   "cell_type": "code",
   "execution_count": null,
   "id": "02255e3f",
   "metadata": {},
   "outputs": [],
   "source": [
    "#     curvefitting.set_specifications_manually(   \n",
    "#     number_of_models=1,                         \n",
    "#     model_specifications = [                    \n",
    "#         [\n",
    "#             'LorentzianModel',\n",
    "#             [2.3, 0.85, 1.],\n",
    "#             [2.3, 2.4]\n",
    "#         ], \n",
    "#         [\n",
    "#             'LorentzianModel',\n",
    "#             [2.6, 0.5, 0.1],\n",
    "#             [2.55, 2.65]\n",
    "#         ],\n",
    "#         [\n",
    "#             'LorentzianModel',\n",
    "#             [2.7, 1.7, 0.1],\n",
    "#             [2.65, 2.75]\n",
    "#         ],\n",
    "#         [\n",
    "#             'LorentzianModel',\n",
    "#             [2.85, 0.27, 0.1],\n",
    "#             [2.8, 2.9]\n",
    "#         ],\n",
    "#         [\n",
    "#             'LorentzianModel',\n",
    "#             [3., 0.1, 0.1],\n",
    "#             [2.95, 3.05]\n",
    "#         ],\n",
    "#         [\n",
    "#             'LorentzianModel',\n",
    "#             [3.14, 5., 0.05],\n",
    "#             [3.1, 3.16]\n",
    "#         ],\n",
    "#         [\n",
    "#             'LorentzianModel',\n",
    "#             [5.9, 0.1, 0.1],\n",
    "#             [5.85, 5.95]\n",
    "#         ],\n",
    "#         [\n",
    "#             'LorentzianModel',\n",
    "#             [6.2, 0.7, 0.1],\n",
    "#             [6.15, 6.25]\n",
    "#         ]\n",
    "#     ]\n",
    "# )"
   ]
  },
  {
   "cell_type": "markdown",
   "id": "bad7deb6",
   "metadata": {},
   "source": [
    "Executing the fitting algorithm and plotting the resulting fitted curve composed of the different models."
   ]
  },
  {
   "cell_type": "code",
   "execution_count": null,
   "id": "73e3b28a",
   "metadata": {},
   "outputs": [],
   "source": [
    "curvefitting.fit()\n",
    "curvefitting.plot_fitting_result() "
   ]
  },
  {
   "cell_type": "markdown",
   "id": "86391c4b",
   "metadata": {},
   "source": [
    "Storing the positions of the centers of the individual models (peaks) in a TXT formatted file."
   ]
  },
  {
   "cell_type": "code",
   "execution_count": null,
   "id": "3f44808d",
   "metadata": {},
   "outputs": [],
   "source": [
    "curvefitting.save_list_of_peak_centers()"
   ]
  },
  {
   "cell_type": "markdown",
   "id": "68fec65e",
   "metadata": {},
   "source": [
    "---\n",
    "\n",
    "### **Disclosure** <a class=\"anchor\" name=\"disclosure\"></a>\n",
    "\n",
    "**Contributions**\n",
    "\n",
    "If you wish to contribute to the FAIR Chemistry project, find us on [GitHub](https://github.com/FAIRChemistry)!\n",
    "\n",
    "**MIT License**\n",
    "\n",
    "Copyright (c) 2022 FAIR Chemistry\n",
    "\n",
    "Permission is hereby granted, free of charge, to any person obtaining a copy\n",
    "of this software and associated documentation files (the \"Software\"), to deal\n",
    "in the Software without restriction, including without limitation the rights\n",
    "to use, copy, modify, merge, publish, distribute, sublicense, and/or sell\n",
    "copies of the Software, and to permit persons to whom the Software is\n",
    "furnished to do so, subject to the following conditions:\n",
    "\n",
    "The above copyright notice and this permission notice shall be included in all\n",
    "copies or substantial portions of the Software.\n",
    "\n",
    "THE SOFTWARE IS PROVIDED \"AS IS\", WITHOUT WARRANTY OF ANY KIND, EXPRESS OR\n",
    "IMPLIED, INCLUDING BUT NOT LIMITED TO THE WARRANTIES OF MERCHANTABILITY,\n",
    "FITNESS FOR A PARTICULAR PURPOSE AND NONINFRINGEMENT. IN NO EVENT SHALL THE\n",
    "AUTHORS OR COPYRIGHT HOLDERS BE LIABLE FOR ANY CLAIM, DAMAGES OR OTHER\n",
    "LIABILITY, WHETHER IN AN ACTION OF CONTRACT, TORT OR OTHERWISE, ARISING FROM,\n",
    "OUT OF OR IN CONNECTION WITH THE SOFTWARE OR THE USE OR OTHER DEALINGS IN THE\n",
    "SOFTWARE."
   ]
  }
 ],
 "metadata": {
  "kernelspec": {
   "display_name": "Python [conda env:fairsaxs]",
   "language": "python",
   "name": "conda-env-fairsaxs-py"
  },
  "language_info": {
   "codemirror_mode": {
    "name": "ipython",
    "version": 3
   },
   "file_extension": ".py",
   "mimetype": "text/x-python",
   "name": "python",
   "nbconvert_exporter": "python",
   "pygments_lexer": "ipython3",
   "version": "3.10.4"
  },
  "vscode": {
   "interpreter": {
    "hash": "9f62ab2d43dc75e3c3b007469adeb0f7488873df876b9b71dd3b119f0280ba41"
   }
  }
 },
 "nbformat": 4,
 "nbformat_minor": 5
}
